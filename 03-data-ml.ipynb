{
 "cells": [
  {
   "cell_type": "markdown",
   "metadata": {},
   "source": [
    "## Домашнее задание №3 (курс \"Практикум по программированию на языке Python\")"
   ]
  },
  {
   "cell_type": "markdown",
   "metadata": {},
   "source": [
    "### Тема: Основы анализа данных и машинного обучения в Python.\n",
    "\n",
    "#### Преподаватель: Мурат Апишев (mel-lain@yandex.ru)\n",
    "\n",
    "**Выдана**:   14 апреля 2021\n",
    "\n",
    "**Дедлайн**:   21:00 28 апреля 2021\n",
    "\n",
    "**Среда выполнения**: Jupyter Notebook (Python 3.7)\n",
    "\n",
    "#### Правила:\n",
    "\n",
    "Результат выполнения задания - Jupyter Notebook с кодом и подробными ответами в случае теоретических вопросов. __Максимальное число баллов за задание - 20__.\n",
    "\n",
    "Все ячейки должны быть \"выполненными\", при этом результат должен воспроизводиться при проверке (на Python 3.7). Если какой-то код не был запущен или отрабатывает с ошибками, то пункт не засчитывается. Задание, сданное после дедлайна, _не принимается_. Можно отправить недоделанное задание, выполненные пункты будут оценены.\n",
    "\n",
    "Готовое задание отправляется на почту преподавателя.\n",
    "\n",
    "Задание выполняется самостоятельно. Если какие-то студенты будут уличены в списывании, все они автоматически получат за эту работу 0 баллов. Если вы нашли в Интернете какой-то специфичный код, который собираетесь заимствовать, обязательно укажите это в задании - наверняка вы не единственный, кто найдёт и использует эту информацию.\n",
    "\n",
    "Удалять фрагменты формулировок заданий запрещается."
   ]
  },
  {
   "cell_type": "markdown",
   "metadata": {},
   "source": [
    "#### Постановка задачи:\n",
    "\n",
    "- В данной работе нужно решить ряд задач c использованием библиотек для обработки данных и машинного обучения, а также дать ичерпывающие ответы на поставленные вопросы.\n",
    "- В задачах 1-3 запрещается использовать циклы, генераторы списков и списковые включения, а также функции высшего порядка, необходимо написать тесты, проверяющие работу решения в обычных и крайних случаях.\n",
    "- Даже если это не указано явно в требованиях, код должен быть по возможности неизбыточным, работать с разумной сложностью и объёмом потребялемой памяти, проверяющие могут снизить балл за задание, выполненное без учёта этого требования.\n",
    "- Результирующий код должен быть читаемым, с единой системой отступов и адеквантными названиями переменных, проверяющие могут снизить балл за задание, выполненное без учёта этого требования.\n",
    "- Везде, где это требуется, должны быть отрисованы необходимые графики и даны комментарии и выводы."
   ]
  },
  {
   "cell_type": "markdown",
   "metadata": {},
   "source": [
    "__Задание 1 (0.5 балла):__ Проверить, что все элементы входного массива строго положительны."
   ]
  },
  {
   "cell_type": "code",
   "execution_count": 1,
   "metadata": {},
   "outputs": [],
   "source": [
    "import numpy as np\n",
    "from typing import Sequence\n",
    "\n",
    "\n",
    "def task_1(arr: Sequence[float]) -> bool:\n",
    "    return all(np.array(arr) > 0)"
   ]
  },
  {
   "cell_type": "code",
   "execution_count": 2,
   "outputs": [
    {
     "name": "stdout",
     "output_type": "stream",
     "text": [
      "Ok\n"
     ]
    }
   ],
   "source": [
    "assert task_1([])\n",
    "assert task_1([1, 2, 3])\n",
    "assert not task_1([0, 0, 0])\n",
    "assert not task_1([0])\n",
    "assert not task_1([1, 2, 3, 4, 5, -1])\n",
    "assert not task_1([1, 2, 3, 0, 4, 5])\n",
    "assert not task_1([-1, 2, 3, 4, 5, 1])\n",
    "assert not task_1([-1, -2, -3, -100])\n",
    "assert task_1([0.000001])\n",
    "\n",
    "print('Ok')"
   ],
   "metadata": {
    "collapsed": false,
    "pycharm": {
     "name": "#%%\n"
    }
   }
  },
  {
   "cell_type": "markdown",
   "metadata": {},
   "source": [
    "__Задание 2 (0.5 балла):__ В векторе повторить все значения `n` раз. Пример: для массива `[1, 2, 3]` и `n` равного 3 ответом должен быть массив `[1, 1, 1, 2, 2, 2, 3, 3, 3]`."
   ]
  },
  {
   "cell_type": "code",
   "execution_count": 3,
   "metadata": {},
   "outputs": [],
   "source": [
    "import numpy as np\n",
    "\n",
    "\n",
    "def task_2(arr: Sequence, n: int) -> Sequence:\n",
    "    return np.repeat(np.array(arr, dtype='object'), n)"
   ]
  },
  {
   "cell_type": "code",
   "execution_count": 4,
   "outputs": [
    {
     "name": "stdout",
     "output_type": "stream",
     "text": [
      "Ok\n"
     ]
    }
   ],
   "source": [
    "def assert_sequences_are_equal(expected: Sequence, actual: Sequence):\n",
    "    assert len(expected) == len(actual)\n",
    "    for e, a in zip(expected, actual):\n",
    "        assert e == a\n",
    "\n",
    "\n",
    "assert_sequences_are_equal([], task_2([], 3))\n",
    "assert_sequences_are_equal([], task_2([], 0))\n",
    "assert_sequences_are_equal([], task_2([1, 2], 0))\n",
    "assert_sequences_are_equal([1, 2], task_2([1, 2], 1))\n",
    "assert_sequences_are_equal([1, 1, 1, 1, 1, -100, -100, -100, -100, -100, 777, 777, 777, 777, 777],\n",
    "                           task_2([1, -100, 777], 5))\n",
    "assert_sequences_are_equal(['asd', 'asd', 4, 4], task_2(['asd', 4], 2))\n",
    "assert_sequences_are_equal([3, 3], task_2([3], 2))\n",
    "\n",
    "print('Ok')"
   ],
   "metadata": {
    "collapsed": false,
    "pycharm": {
     "name": "#%%\n"
    }
   }
  },
  {
   "cell_type": "markdown",
   "metadata": {},
   "source": [
    "__Задание 3 (1 балл):__ Для векторов `V` и `v` построить вектор, в котором на 0-й позиции будет находиться сумма первых `v[0]` элементов вектора `V`, на 1-й - следующих `v[1]` элементов, и т.д. Гарантируется, что элементов в `V` достаточное количество. Пример: для массивов `V=[1, 2, 3, 4, 5, 6, 7, 8, 9, 10]` и `v=[2, 1, 3]` ответом будет `[3, 3, 15]`."
   ]
  },
  {
   "cell_type": "code",
   "execution_count": 78,
   "metadata": {},
   "outputs": [],
   "source": [
    "import numpy as np\n",
    "from typing import List\n",
    "\n",
    "\n",
    "def task_3(V: List[float], v: Sequence[int]):\n",
    "    V, v = np.array([0] + V), np.array(v, dtype=int)\n",
    "\n",
    "    V_cumsums = np.cumsum(V)\n",
    "    selected_cumsums = V_cumsums[np.cumsum(v)]\n",
    "    rolled = np.roll(selected_cumsums, 1)\n",
    "    if len(rolled) > 0:\n",
    "        rolled[0] = 0\n",
    "    return selected_cumsums - rolled"
   ]
  },
  {
   "cell_type": "code",
   "execution_count": 79,
   "outputs": [
    {
     "name": "stdout",
     "output_type": "stream",
     "text": [
      "Ok\n"
     ]
    }
   ],
   "source": [
    "assert_sequences_are_equal([3, 3, 15], task_3([1, 2, 3, 4, 5, 6, 7, 8, 9, 10], [2, 1, 3]))\n",
    "assert_sequences_are_equal([], task_3([], []))\n",
    "assert_sequences_are_equal([], task_3([1, 2, 3], []))\n",
    "assert_sequences_are_equal([6, 0, 15], task_3([1, 2, 3, 4, 5, 6], [3, 0, 3]))\n",
    "assert_sequences_are_equal([0, 0, 0, 46], task_3([10, 15, 21], [0, 0, 0, 3]))\n",
    "assert_sequences_are_equal([33], task_3([1, 3, 7, 22], [4]))\n",
    "\n",
    "print('Ok')"
   ],
   "metadata": {
    "collapsed": false,
    "pycharm": {
     "name": "#%%\n"
    }
   }
  },
  {
   "cell_type": "markdown",
   "metadata": {},
   "source": [
    "Для решения следующих заданий скачайте набор данных 20 News Group с помощью следующего кода:"
   ]
  },
  {
   "cell_type": "code",
   "execution_count": 24,
   "metadata": {},
   "outputs": [],
   "source": [
    "import pandas as pd\n",
    "from sklearn.datasets import fetch_20newsgroups\n",
    "\n",
    "X_train = fetch_20newsgroups(subset='train')\n",
    "X_test = fetch_20newsgroups(subset='test')\n",
    "\n",
    "label_names = pd.DataFrame(columns=['label_id', 'label_name'],\n",
    "                           data=[(i, e) for i, e in enumerate(list(X_train.target_names))])\n",
    "data = pd.DataFrame()\n",
    "data['text'] = X_train.data + X_test.data\n",
    "data['is_train'] = [True] * len(X_train.data) + [False] * len(X_test.data)\n",
    "data['label_id'] = list(X_train.target) + list(X_test.target)"
   ]
  },
  {
   "cell_type": "markdown",
   "metadata": {},
   "source": [
    "__Задание 4 (1.5 балла):__ Используя возможности библиотеки pandas\n",
    "\n",
    "- сделайте join таблиц `data` и `label_names`, удалив из итоговой таблицы поле `label_id`\n",
    "- посчитайте количество обучающих и тестовых данных\n",
    "- постройте круговую диаграмму, показывающую долю каждого класса в обучающих данных"
   ]
  },
  {
   "cell_type": "code",
   "execution_count": 165,
   "outputs": [
    {
     "data": {
      "text/plain": "                                                text  is_train  label_id  \\\n0  From: lerxst@wam.umd.edu (where's my thing)\\nS...      True         7   \n1  From: guykuo@carson.u.washington.edu (Guy Kuo)...      True         4   \n2  From: twillis@ec.ecn.purdue.edu (Thomas E Will...      True         4   \n3  From: jgreen@amber (Joe Green)\\nSubject: Re: W...      True         1   \n4  From: jcm@head-cfa.harvard.edu (Jonathan McDow...      True        14   \n5  From: dfo@vttoulu.tko.vtt.fi (Foxvog Douglas)\\...      True        16   \n6  From: bmdelane@quads.uchicago.edu (brian manni...      True        13   \n7  From: bgrubb@dante.nmsu.edu (GRUBB)\\nSubject: ...      True         3   \n8  From: holmes7000@iscsvax.uni.edu\\nSubject: WIn...      True         2   \n9  From: kerr@ux1.cso.uiuc.edu (Stan Kerr)\\nSubje...      True         4   \n\n                 label_name  \n0                 rec.autos  \n1     comp.sys.mac.hardware  \n2     comp.sys.mac.hardware  \n3             comp.graphics  \n4                 sci.space  \n5        talk.politics.guns  \n6                   sci.med  \n7  comp.sys.ibm.pc.hardware  \n8   comp.os.ms-windows.misc  \n9     comp.sys.mac.hardware  ",
      "text/html": "<div>\n<style scoped>\n    .dataframe tbody tr th:only-of-type {\n        vertical-align: middle;\n    }\n\n    .dataframe tbody tr th {\n        vertical-align: top;\n    }\n\n    .dataframe thead th {\n        text-align: right;\n    }\n</style>\n<table border=\"1\" class=\"dataframe\">\n  <thead>\n    <tr style=\"text-align: right;\">\n      <th></th>\n      <th>text</th>\n      <th>is_train</th>\n      <th>label_id</th>\n      <th>label_name</th>\n    </tr>\n  </thead>\n  <tbody>\n    <tr>\n      <th>0</th>\n      <td>From: lerxst@wam.umd.edu (where's my thing)\\nS...</td>\n      <td>True</td>\n      <td>7</td>\n      <td>rec.autos</td>\n    </tr>\n    <tr>\n      <th>1</th>\n      <td>From: guykuo@carson.u.washington.edu (Guy Kuo)...</td>\n      <td>True</td>\n      <td>4</td>\n      <td>comp.sys.mac.hardware</td>\n    </tr>\n    <tr>\n      <th>2</th>\n      <td>From: twillis@ec.ecn.purdue.edu (Thomas E Will...</td>\n      <td>True</td>\n      <td>4</td>\n      <td>comp.sys.mac.hardware</td>\n    </tr>\n    <tr>\n      <th>3</th>\n      <td>From: jgreen@amber (Joe Green)\\nSubject: Re: W...</td>\n      <td>True</td>\n      <td>1</td>\n      <td>comp.graphics</td>\n    </tr>\n    <tr>\n      <th>4</th>\n      <td>From: jcm@head-cfa.harvard.edu (Jonathan McDow...</td>\n      <td>True</td>\n      <td>14</td>\n      <td>sci.space</td>\n    </tr>\n    <tr>\n      <th>5</th>\n      <td>From: dfo@vttoulu.tko.vtt.fi (Foxvog Douglas)\\...</td>\n      <td>True</td>\n      <td>16</td>\n      <td>talk.politics.guns</td>\n    </tr>\n    <tr>\n      <th>6</th>\n      <td>From: bmdelane@quads.uchicago.edu (brian manni...</td>\n      <td>True</td>\n      <td>13</td>\n      <td>sci.med</td>\n    </tr>\n    <tr>\n      <th>7</th>\n      <td>From: bgrubb@dante.nmsu.edu (GRUBB)\\nSubject: ...</td>\n      <td>True</td>\n      <td>3</td>\n      <td>comp.sys.ibm.pc.hardware</td>\n    </tr>\n    <tr>\n      <th>8</th>\n      <td>From: holmes7000@iscsvax.uni.edu\\nSubject: WIn...</td>\n      <td>True</td>\n      <td>2</td>\n      <td>comp.os.ms-windows.misc</td>\n    </tr>\n    <tr>\n      <th>9</th>\n      <td>From: kerr@ux1.cso.uiuc.edu (Stan Kerr)\\nSubje...</td>\n      <td>True</td>\n      <td>4</td>\n      <td>comp.sys.mac.hardware</td>\n    </tr>\n  </tbody>\n</table>\n</div>"
     },
     "execution_count": 165,
     "metadata": {},
     "output_type": "execute_result"
    }
   ],
   "source": [
    "joined = data.join(label_names.set_index('label_id'), 'label_id')\n",
    "joined.head(10)"
   ],
   "metadata": {
    "collapsed": false,
    "pycharm": {
     "name": "#%%\n"
    }
   }
  },
  {
   "cell_type": "code",
   "execution_count": 166,
   "outputs": [
    {
     "name": "stdout",
     "output_type": "stream",
     "text": [
      "Total: 18846\n",
      "Train: 11314\n",
      "Test: 7532\n"
     ]
    }
   ],
   "source": [
    "print(f'Total: {len(data)}')\n",
    "print(f'Train: {len(data[data.is_train])}')\n",
    "print(f'Test: {len(data[~data.is_train])}')"
   ],
   "metadata": {
    "collapsed": false,
    "pycharm": {
     "name": "#%%\n"
    }
   }
  },
  {
   "cell_type": "code",
   "execution_count": 167,
   "outputs": [
    {
     "data": {
      "text/plain": "<Figure size 720x720 with 1 Axes>",
      "image/png": "[encoded data removed]"
     },
     "metadata": {},
     "output_type": "display_data"
    }
   ],
   "source": [
    "joined['label_name'].value_counts().plot(kind='pie', figsize=(10, 10));"
   ],
   "metadata": {
    "collapsed": false,
    "pycharm": {
     "name": "#%%\n"
    }
   }
  },
  {
   "cell_type": "markdown",
   "metadata": {},
   "source": [
    "__Задание 5 (1.5 балла):__ Каждый объект представляет собой текст. Чаще всего тексты предобрабатывают перед тем, как пытаться выделять из них признаки. Опишите функцию `preprocess`, которая получает на вход сырой текст и возвращает предобработанный. Примените эту функцию к элементу `text` каждого объекта и результат запишите в столбец `pp_text` (далее под текстом подразумевается именно содержимое этого столбца). За пределами `preprocess` циклами пользоваться запрещено (т.е. предобработка должна применяться средствами DataFrame). Функция должна выполнять следующий набор операций:\n",
    "\n",
    "- привести текст к нижнему регистру\n",
    "- заменить все символы '\\n', '\\t' и '\\r' на пробелы\n",
    "- заменить в тексте все символы, не являющиеся английскими буквами, на пробелы\n",
    "- сделать split текста по пробелам, удалив все пустые слова\n",
    "- вернуть получившийся список слов\n",
    "\n",
    "Для ускорения `preprocess` может использовать внешние переменные, например, скомпилированные регулярные выражения."
   ]
  },
  {
   "cell_type": "code",
   "execution_count": 44,
   "metadata": {},
   "outputs": [],
   "source": [
    "import re\n",
    "\n",
    "regex = re.compile(r'[^a-z]')\n",
    "\n",
    "\n",
    "def preprocess(text: str):\n",
    "    text = text.lower()\n",
    "    text = regex.sub(' ', text)\n",
    "    return list(filter(\n",
    "        lambda x: len(x) > 0,\n",
    "        text.split(' ')\n",
    "    ))\n",
    "\n",
    "\n",
    "def task_5():\n",
    "    data['pp_text'] = data.apply(\n",
    "        lambda x: preprocess(x['text']),\n",
    "        axis=1\n",
    "    )"
   ]
  },
  {
   "cell_type": "code",
   "execution_count": 45,
   "outputs": [],
   "source": [
    "task_5()"
   ],
   "metadata": {
    "collapsed": false,
    "pycharm": {
     "name": "#%%\n"
    }
   }
  },
  {
   "cell_type": "code",
   "execution_count": 47,
   "outputs": [
    {
     "data": {
      "text/plain": "                                                text  is_train  label_id  \\\n0  From: lerxst@wam.umd.edu (where's my thing)\\nS...      True         7   \n1  From: guykuo@carson.u.washington.edu (Guy Kuo)...      True         4   \n2  From: twillis@ec.ecn.purdue.edu (Thomas E Will...      True         4   \n3  From: jgreen@amber (Joe Green)\\nSubject: Re: W...      True         1   \n4  From: jcm@head-cfa.harvard.edu (Jonathan McDow...      True        14   \n5  From: dfo@vttoulu.tko.vtt.fi (Foxvog Douglas)\\...      True        16   \n6  From: bmdelane@quads.uchicago.edu (brian manni...      True        13   \n7  From: bgrubb@dante.nmsu.edu (GRUBB)\\nSubject: ...      True         3   \n8  From: holmes7000@iscsvax.uni.edu\\nSubject: WIn...      True         2   \n9  From: kerr@ux1.cso.uiuc.edu (Stan Kerr)\\nSubje...      True         4   \n\n                                             pp_text  \n0  [from, lerxst, wam, umd, edu, where, s, my, th...  \n1  [from, guykuo, carson, u, washington, edu, guy...  \n2  [from, twillis, ec, ecn, purdue, edu, thomas, ...  \n3  [from, jgreen, amber, joe, green, subject, re,...  \n4  [from, jcm, head, cfa, harvard, edu, jonathan,...  \n5  [from, dfo, vttoulu, tko, vtt, fi, foxvog, dou...  \n6  [from, bmdelane, quads, uchicago, edu, brian, ...  \n7  [from, bgrubb, dante, nmsu, edu, grubb, subjec...  \n8  [from, holmes, iscsvax, uni, edu, subject, win...  \n9  [from, kerr, ux, cso, uiuc, edu, stan, kerr, s...  ",
      "text/html": "<div>\n<style scoped>\n    .dataframe tbody tr th:only-of-type {\n        vertical-align: middle;\n    }\n\n    .dataframe tbody tr th {\n        vertical-align: top;\n    }\n\n    .dataframe thead th {\n        text-align: right;\n    }\n</style>\n<table border=\"1\" class=\"dataframe\">\n  <thead>\n    <tr style=\"text-align: right;\">\n      <th></th>\n      <th>text</th>\n      <th>is_train</th>\n      <th>label_id</th>\n      <th>pp_text</th>\n    </tr>\n  </thead>\n  <tbody>\n    <tr>\n      <th>0</th>\n      <td>From: lerxst@wam.umd.edu (where's my thing)\\nS...</td>\n      <td>True</td>\n      <td>7</td>\n      <td>[from, lerxst, wam, umd, edu, where, s, my, th...</td>\n    </tr>\n    <tr>\n      <th>1</th>\n      <td>From: guykuo@carson.u.washington.edu (Guy Kuo)...</td>\n      <td>True</td>\n      <td>4</td>\n      <td>[from, guykuo, carson, u, washington, edu, guy...</td>\n    </tr>\n    <tr>\n      <th>2</th>\n      <td>From: twillis@ec.ecn.purdue.edu (Thomas E Will...</td>\n      <td>True</td>\n      <td>4</td>\n      <td>[from, twillis, ec, ecn, purdue, edu, thomas, ...</td>\n    </tr>\n    <tr>\n      <th>3</th>\n      <td>From: jgreen@amber (Joe Green)\\nSubject: Re: W...</td>\n      <td>True</td>\n      <td>1</td>\n      <td>[from, jgreen, amber, joe, green, subject, re,...</td>\n    </tr>\n    <tr>\n      <th>4</th>\n      <td>From: jcm@head-cfa.harvard.edu (Jonathan McDow...</td>\n      <td>True</td>\n      <td>14</td>\n      <td>[from, jcm, head, cfa, harvard, edu, jonathan,...</td>\n    </tr>\n    <tr>\n      <th>5</th>\n      <td>From: dfo@vttoulu.tko.vtt.fi (Foxvog Douglas)\\...</td>\n      <td>True</td>\n      <td>16</td>\n      <td>[from, dfo, vttoulu, tko, vtt, fi, foxvog, dou...</td>\n    </tr>\n    <tr>\n      <th>6</th>\n      <td>From: bmdelane@quads.uchicago.edu (brian manni...</td>\n      <td>True</td>\n      <td>13</td>\n      <td>[from, bmdelane, quads, uchicago, edu, brian, ...</td>\n    </tr>\n    <tr>\n      <th>7</th>\n      <td>From: bgrubb@dante.nmsu.edu (GRUBB)\\nSubject: ...</td>\n      <td>True</td>\n      <td>3</td>\n      <td>[from, bgrubb, dante, nmsu, edu, grubb, subjec...</td>\n    </tr>\n    <tr>\n      <th>8</th>\n      <td>From: holmes7000@iscsvax.uni.edu\\nSubject: WIn...</td>\n      <td>True</td>\n      <td>2</td>\n      <td>[from, holmes, iscsvax, uni, edu, subject, win...</td>\n    </tr>\n    <tr>\n      <th>9</th>\n      <td>From: kerr@ux1.cso.uiuc.edu (Stan Kerr)\\nSubje...</td>\n      <td>True</td>\n      <td>4</td>\n      <td>[from, kerr, ux, cso, uiuc, edu, stan, kerr, s...</td>\n    </tr>\n  </tbody>\n</table>\n</div>"
     },
     "execution_count": 47,
     "metadata": {},
     "output_type": "execute_result"
    }
   ],
   "source": [
    "data.head(10)"
   ],
   "metadata": {
    "collapsed": false,
    "pycharm": {
     "name": "#%%\n"
    }
   }
  },
  {
   "cell_type": "markdown",
   "metadata": {},
   "source": [
    "__Задание 6 (2 балла):__ Каждое уникальное слово текста представляет собой признак. Посчитайте, сколько в обучающих текстах есть уникальных слов, отобразите гистограмму частот встречаемости слов в обучающей коллекции, \n",
    "отсортировав слова по убыванию частоты встречаемости (по оси X идут все слова из словаря коллекции в порядке убывания частоты встречаемости, по оси Y указываются значения частот).\n",
    "\n",
    "Для уменьшения признакового пространства словарь фильтруют. Удалите из словаря\n",
    "\n",
    "- все слова, встречающиеся более 9000-х раз\n",
    "- все слова, встречающиеся менее 3-х раз\n",
    "- все слова длиной менее 3 символов\n",
    "- все слова длиной более 20 символов\n",
    "- все слова, состоящие из одного и того же символа\n",
    "\n",
    "Профильтруйте обучающую коллекцию по новому словарю и снова посчитайте число уникальных слов в словаре и снова постройте гистограмму частот."
   ]
  },
  {
   "cell_type": "code",
   "execution_count": null,
   "metadata": {},
   "outputs": [],
   "source": [
    "from collections import Counter\n",
    "\n",
    "vocabulary = Counter()\n",
    "\n",
    "\n",
    "def task_6():\n",
    "    pass"
   ]
  },
  {
   "cell_type": "markdown",
   "metadata": {},
   "source": [
    "__Задание 7 (2 балла):__ Для построения моделей данные нужно перевести в числовой вид. Для этого воспользуйтесь представлением \"мешка слов\", в котором признаками являются слова, а значениями - частоты их встречаемости в документе. Построить представление мешка слов можно с помощью класса CountVectorizer из sklearn. Подготовьте векторизатор, подав ему обучающие текстовые данные из `data` (приведите тексты к формату входа векторизатора) и полученный выше словарь.\n",
    "\n",
    "Примените полученный векторизатор к обучающим и тестовым данным, на выходе должны получиться два numpy array (первая размерность - число объектов, вторая - число слов в словаре)."
   ]
  },
  {
   "cell_type": "code",
   "execution_count": null,
   "metadata": {},
   "outputs": [],
   "source": [
    "from sklearn.feature_extraction.text import CountVectorizer\n",
    "\n",
    "\n",
    "def task_7():\n",
    "    # vectorizer = ...\n",
    "    pass\n",
    "\n",
    "    # assert len(vectorizer.vocabulary_) == len(vocabulary)"
   ]
  },
  {
   "cell_type": "markdown",
   "metadata": {},
   "source": [
    "__Задание 8 (2 балла):__ Модель логистической регрессии хорошо работает для простых задач классификации текстов, примените её к полученным данным. Для этого настройте модель на обучающих данных, сделайте предсказание для тестовых и измерьте качество с помощью метрик accuracy и F1-score с микро- и макро-усреднением. Попробуйте подобрать оптимальное значение коэффициента регуляризации С с помощью GridSearchCV."
   ]
  },
  {
   "cell_type": "code",
   "execution_count": null,
   "metadata": {},
   "outputs": [],
   "source": [
    "from sklearn.linear_model import LogisticRegression\n",
    "from sklearn.metrics import accuracy_score, f1_score\n",
    "from sklearn.model_selection import GridSearchCV\n",
    "\n",
    "def task_8():\n",
    "    # vectorizer = ...\n",
    "    pass\n",
    "\n",
    "    # assert len(vectorizer) == len(vocabulary)"
   ]
  },
  {
   "cell_type": "markdown",
   "metadata": {},
   "source": [
    "__Задание 9 (1.5 балл):__ Ошибки классификации удобно анализировать с помощью матрицы ошибок. Сделав предсказание на тесте постройте и визуализируйте эту матрицу с помощью функции plot_confusion_matrix в двух вариантах: с абсолютными и относительными (нормированными) значеними. Определите классы, которые чаще всего путаются между собой."
   ]
  },
  {
   "cell_type": "code",
   "execution_count": null,
   "metadata": {},
   "outputs": [],
   "source": [
    "from sklearn.metrics import plot_confusion_matrix\n",
    "\n",
    "def task_9():\n",
    "    pass"
   ]
  },
  {
   "cell_type": "markdown",
   "metadata": {},
   "source": [
    "__Задание 10 (2.5 балла):__ Установите библиотеку XGBoost и обучите модель градиентного бустинга для решения поставленной задачи классификации. Попробуйте подобрать оптимальную модель, выбрав 2-3 важных параметра обучения. Укажите, какие параметры в большей, а какие - в меньшей степени оказали влияние на итоговое качество модели."
   ]
  },
  {
   "cell_type": "code",
   "execution_count": null,
   "metadata": {},
   "outputs": [],
   "source": [
    "from xgboost import XGBClassifier\n",
    "\n",
    "def task_10():\n",
    "    pass"
   ]
  },
  {
   "cell_type": "markdown",
   "metadata": {},
   "source": [
    "__Задание 11 (2.5 балла):__ Часто в обработке текстов возникает задача выделения тем, обсуждаемых в них. Одним из способов решения это задачи является кластеризация графа совстречаемостей слов. Для текстов, находящихся в поле `pp_text` постройте словарь \"слово\" в \"слово\" в \"счетчик совстречаемости\", для слова A и B достаточно хранить A -> B -> counter, хранить B -> A -> counter не нужно. Счетчик увеличивается на 1, если пара слов встретилась в одном тексте внутри окна с длиной 10 слов."
   ]
  },
  {
   "cell_type": "code",
   "execution_count": null,
   "metadata": {},
   "outputs": [],
   "source": [
    "def task_11():\n",
    "    pass"
   ]
  },
  {
   "cell_type": "markdown",
   "metadata": {},
   "source": [
    "__Задание 12 (2.5 балла):__ Приняв каждое слово за вершину, а ребра между ними - за наличие совместной встречаемости, постройте граф совстречаемостей. Все ребра равнозначны, ребро добавляется между словами, если значение счетчика совместной встречамости этих слов выше заданного порога T. Примените к получившему графу алгоритм выделения сообществ greedy_modularity_communities из библиотеки NetworkX и напечайте получившиеся вообщества. Можно ли их как-то интерпретировать?\n",
    "\n",
    "Пробуйте варьировать значение T от 70 до 120 и удалять слишком большие (и потому заведомо бесполезные) сообщества и сообщества из 1 слова."
   ]
  },
  {
   "cell_type": "code",
   "execution_count": null,
   "metadata": {},
   "outputs": [],
   "source": [
    "from networkx import Graph\n",
    "from networkx.algorithms import community\n",
    "\n",
    "\n",
    "def task_12():\n",
    "    # community.greedy_modularity_communities(...)\n",
    "    pass"
   ]
  }
 ],
 "metadata": {
  "kernelspec": {
   "display_name": "Python 3 (ipykernel)",
   "language": "python",
   "name": "python3"
  },
  "language_info": {
   "codemirror_mode": {
    "name": "ipython",
    "version": 3
   },
   "file_extension": ".py",
   "mimetype": "text/x-python",
   "name": "python",
   "nbconvert_exporter": "python",
   "pygments_lexer": "ipython3",
   "version": "3.9.9"
  }
 },
 "nbformat": 4,
 "nbformat_minor": 2
}