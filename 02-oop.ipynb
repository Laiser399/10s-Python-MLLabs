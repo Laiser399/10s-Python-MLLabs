{
 "cells": [
  {
   "cell_type": "markdown",
   "metadata": {},
   "source": [
    "## Домашнее задание №2 (курс \"Практикум по программированию на языке Python\")"
   ]
  },
  {
   "cell_type": "markdown",
   "metadata": {},
   "source": [
    "### Тема: Объектно-ориентированное программирование на языке Python.\n",
    "\n",
    "#### Преподаватель: Мурат Апишев (mel-lain@yandex.ru)\n",
    "\n",
    "**Выдана**:   21 марта 2022\n",
    "\n",
    "**Дедлайн**:   21:00 04 апреля 2021\n",
    "\n",
    "**Среда выполнения**: Jupyter Notebook (Python 3.7)\n",
    "\n",
    "#### Правила:\n",
    "\n",
    "Результат выполнения задания - Jupyter Notebook с кодом и подробными ответами в случае теоретических вопросов. __Максимальное число баллов за задание - 20__.\n",
    "\n",
    "Все ячейки должны быть \"выполненными\", при этом результат должен воспроизводиться при проверке (на Python 3.7). Если какой-то код не был запущен или отрабатывает с ошибками, то пункт не засчитывается. Задание, сданное после дедлайна, _не принимается_. Можно отправить недоделанное задание, выполненные пункты будут оценены.\n",
    "\n",
    "Готовое задание отправляется на почту преподавателя.\n",
    "\n",
    "Задание выполняется самостоятельно. Если какие-то студенты будут уличены в списывании, все они автоматически получат за эту работу 0 баллов. Если вы нашли в Интернете какой-то специфичный код, который собираетесь заимствовать, обязательно укажите это в задании - наверняка вы не единственный, кто найдёт и использует эту информацию.\n",
    "\n",
    "Удалять фрагменты формулировок заданий запрещается."
   ]
  },
  {
   "cell_type": "markdown",
   "metadata": {},
   "source": [
    "#### Постановка задачи:\n",
    "\n",
    "- В данной работе нужно\n",
    "    - ответить на ряд теоретических вопросов;\n",
    "    - решить набор задач, проверяющих владение ООП-инструментами языка;\n",
    "    - решить задачу на проектирование кода.\n",
    "- Ответы на теоретические вопросы должны быть полными и обоснованными.\n",
    "- Каждая задача представляет собой написание функции или класса, а также набора тестов, проверяющих работу решения в общих и крайних случаях.\n",
    "- Отсутствие тестов автоматически уменьшает количество баллов за задание как минимум в два раза, некачественные тесты также будут штрафоваться.\n",
    "- Даже если это не указано явно в требованиях, код должен быть по возможности неизбыточным, работать с разумной сложностью и объёмом потребялемой памяти, проверяющие могут снизить балл за задание, выполненное без учёта этого требования.\n",
    "- Результирующий код должен быть читаемым, с единой системой отступов и адеквантными названиями переменных, проверяющие могут снизить балл за задание, выполненное без учёта этого требования."
   ]
  },
  {
   "cell_type": "markdown",
   "metadata": {},
   "source": [
    "__Задание 1 (2 балла):__ Дайте подробные ответы на следующие вопросы:\n",
    "\n",
    "1. В чём смысл инкапсуляции? Приведите пример конкретной ситуации в коде, в которой нарушение инкапсуляции приводит к проблемам.\n",
    "2. Какой метод называется статическим? Что такое параметр `self`?\n",
    "3. В чём отличия методов `__new__` и `__init__`?\n",
    "4. Какие виды отношений классов вы знаете? Для каждого приведите примеры. Укажите взаимные различия.\n",
    "5. Зачем нужны фабрики? Опишите смысл использования фабричного метода, фабрики и абстрактной фабрики, а также их взаимные отличия."
   ]
  },
  {
   "cell_type": "markdown",
   "metadata": {},
   "source": [
    "__Задание 2 (1 балл):__ Опишите класс комплексных чисел. У пользователя должна быть возможность создать его объект на основе числа и в алгебраической форме, и в полярной. Класс должен поддерживать основные математические операции (+, -, \\*, /) за счет перегрузки соответствующих магических методов. Также он должен поддерживать возможность получить число в алгебраической и полярной форме. Допускается использование модуля `math`."
   ]
  },
  {
   "cell_type": "code",
   "execution_count": 55,
   "metadata": {},
   "outputs": [],
   "source": [
    "import math\n",
    "\n",
    "\n",
    "class ComplexNumber:\n",
    "    def __init__(self, real: float, imagine: float = None):\n",
    "        if imagine is None:\n",
    "            imagine = 0\n",
    "        self._real = real\n",
    "        self._imagine = imagine\n",
    "\n",
    "    def __add__(self, other: 'ComplexNumber') -> 'ComplexNumber':\n",
    "        return ComplexNumber(self.real + other.real, self.imagine + other.imagine)\n",
    "\n",
    "    def __sub__(self, other: 'ComplexNumber') -> 'ComplexNumber':\n",
    "        return ComplexNumber(self.real - other.real, self.imagine - other.imagine)\n",
    "\n",
    "    def __mul__(self, other: 'ComplexNumber') -> 'ComplexNumber':\n",
    "        real = self.real * other.real - self.imagine * other.imagine\n",
    "        imagine = self.real * other.imagine + self.imagine * other.real\n",
    "        return ComplexNumber(real, imagine)\n",
    "\n",
    "    def __truediv__(self, other: 'ComplexNumber') -> 'ComplexNumber':\n",
    "        if other.real == 0 and other.imagine == 0:\n",
    "            raise ValueError('Division by zero.')\n",
    "        denominator = other.real ** 2 + other.imagine ** 2\n",
    "        real = (self.real * other.real + self.imagine * other.imagine) / denominator\n",
    "        imagine = (self.imagine * other.real - self.real * other.imagine) / denominator\n",
    "        return ComplexNumber(real, imagine)\n",
    "\n",
    "    def get_polar_values(self) -> (float, float):\n",
    "        radius = math.sqrt(self.real ** 2 + self.imagine ** 2)\n",
    "        angle = math.atan2(self.imagine, self.real) % math.pi\n",
    "        return radius, angle\n",
    "\n",
    "    @property\n",
    "    def real(self) -> float:\n",
    "        return self._real\n",
    "\n",
    "    @property\n",
    "    def imagine(self) -> float:\n",
    "        return self._imagine\n",
    "\n",
    "    @staticmethod\n",
    "    def from_polar(radius: float, angle: float) -> 'ComplexNumber':\n",
    "        return ComplexNumber(radius * math.cos(angle), radius * math.sin(angle))"
   ]
  },
  {
   "cell_type": "code",
   "execution_count": 59,
   "outputs": [
    {
     "name": "stdout",
     "output_type": "stream",
     "text": [
      "Ok?\n"
     ]
    }
   ],
   "source": [
    "a = ComplexNumber(1, -3.3)\n",
    "b = ComplexNumber(-4.1, 2)\n",
    "c = ComplexNumber(7)\n",
    "zero = ComplexNumber(0)\n",
    "assert a.real == 1\n",
    "assert a.imagine == -3.3\n",
    "assert c.real == 7\n",
    "assert c.imagine == 0\n",
    "polar = ComplexNumber.from_polar(2, 0.785)\n",
    "assert 1.413 < polar.real < 1.415\n",
    "assert 1.413 < polar.imagine < 1.415\n",
    "radius, angle = a.get_polar_values()\n",
    "assert 3.447 < radius < 3.449\n",
    "assert 1.864 < angle < 1.866\n",
    "sum_res = a + b\n",
    "assert -3.1001 < sum_res.real < -3.0999\n",
    "assert -1.3001 < sum_res.imagine < -1.2999\n",
    "sub_res = a - b\n",
    "assert 5.0999 < sub_res.real < 5.1001\n",
    "assert -53001 < sub_res.imagine < 5.2999\n",
    "mul_res = a * b\n",
    "assert 2.4999 < mul_res.real < 2.5001\n",
    "assert 15.5299 < mul_res.imagine < 15.5301\n",
    "div_res = a / b\n",
    "assert -0.5142 < div_res.real < -0.5141\n",
    "assert 0.5539 < div_res.imagine < 0.5541\n",
    "try:\n",
    "    _ = a / zero\n",
    "    assert False\n",
    "except ValueError as err:\n",
    "    assert True\n",
    "\n",
    "print('Ok?')"
   ],
   "metadata": {
    "collapsed": false,
    "pycharm": {
     "name": "#%%\n"
    }
   }
  },
  {
   "cell_type": "markdown",
   "metadata": {},
   "source": [
    "__Задание 3 (2 балла):__ Опишите класс для векторов в N-мерном пространстве. В качестве основы  используйте список значений координат вектора, задаваемый `list`. Обеспечьте поддержку следующих операций: сложение, вычитание (с созданием нового вектора-результата), скалярное произведение, косинус угла, евклидова норма. Все операции, которые можно перегрузить с помощью магических методов, должны быть реализованы именно через них. Класс должен производить проверку консистентности аргументов для каждой операции и в случаях ошибок выбрасывать исключение `ValueError` с исчерпывающим объяснением ошибки."
   ]
  },
  {
   "cell_type": "code",
   "execution_count": 6,
   "metadata": {},
   "outputs": [],
   "source": [
    "from typing import List\n",
    "import math\n",
    "\n",
    "\n",
    "class Vector:\n",
    "    def __init__(self, vector_values_list: List[float]):\n",
    "        if len(vector_values_list) < 2:\n",
    "            raise ValueError('Invalid count of vector values. Min length is 2.')\n",
    "        self._values = vector_values_list\n",
    "        self._dimension = len(self._values)\n",
    "\n",
    "    def __add__(self, other: 'Vector') -> 'Vector':\n",
    "        if self.dimension != other.dimension:\n",
    "            raise ValueError('Dimensions of vectors are different.')\n",
    "        result_values = list(map(\n",
    "            lambda x: x[0] + x[1],\n",
    "            zip(self.values, other.values)\n",
    "        ))\n",
    "        return Vector(result_values)\n",
    "\n",
    "    def __sub__(self, other: 'Vector') -> 'Vector':\n",
    "        if self.dimension != other.dimension:\n",
    "            raise ValueError('Dimensions of vectors are different.')\n",
    "        result_values = list(map(\n",
    "            lambda x: x[0] - x[1],\n",
    "            zip(self.values, other.values)\n",
    "        ))\n",
    "        return Vector(result_values)\n",
    "\n",
    "    def scalar_multiply(self, other: 'Vector') -> float:\n",
    "        if self.dimension != other.dimension:\n",
    "            raise ValueError('Dimensions of vectors are different.')\n",
    "        return sum(\n",
    "            map(\n",
    "                lambda x: x[0] * x[1],\n",
    "                zip(self.values, other.values)\n",
    "            )\n",
    "        )\n",
    "\n",
    "    def vector_multiply(self, other: 'Vector') -> 'Vector':\n",
    "        if self.dimension != 3 or other.dimension != 3:\n",
    "            raise ValueError('Wrong dimensions for vector multiply.')\n",
    "        return Vector([\n",
    "            self.values[1] * other.values[2] - self.values[2] * other.values[1],\n",
    "            self.values[2] * other.values[0] - self.values[0] * other.values[2],\n",
    "            self.values[0] * other.values[1] - self.values[1] * other.values[0]\n",
    "        ])\n",
    "\n",
    "    def norm(self) -> float:\n",
    "        return math.sqrt(sum(map(\n",
    "            lambda x: x ** 2,\n",
    "            self.values\n",
    "        )))\n",
    "\n",
    "    @property\n",
    "    def values(self) -> List[float]:\n",
    "        return self._values\n",
    "\n",
    "    @property\n",
    "    def dimension(self) -> int:\n",
    "        return self._dimension"
   ]
  },
  {
   "cell_type": "code",
   "execution_count": 13,
   "outputs": [
    {
     "name": "stdout",
     "output_type": "stream",
     "text": [
      "Ok?\n"
     ]
    }
   ],
   "source": [
    "try:\n",
    "    a = Vector([])\n",
    "    assert False\n",
    "except ValueError:\n",
    "    assert True\n",
    "\n",
    "try:\n",
    "    a = Vector([1])\n",
    "    assert False\n",
    "except ValueError:\n",
    "    assert True\n",
    "\n",
    "\n",
    "def assert_lists_with_error(expected: List[float], actual: List[float], error: float):\n",
    "    assert len(expected) == len(actual)\n",
    "    for e, a in zip(expected, actual):\n",
    "        assert e - error < a < e + error\n",
    "\n",
    "\n",
    "def assert_with_error(expected, actual, error):\n",
    "    assert expected - error < actual < expected + error\n",
    "\n",
    "\n",
    "a = Vector([1, 2, 3])\n",
    "b = Vector([-3, 7, -1])\n",
    "sum_res = a + b\n",
    "sub_res = a - b\n",
    "scalar_res = a.scalar_multiply(b)\n",
    "vector_res = a.vector_multiply(b)\n",
    "norm = a.norm()\n",
    "assert a.dimension == 3\n",
    "assert b.dimension == 3\n",
    "assert_lists_with_error([-2, 9, 2], sum_res.values, 0.0001)\n",
    "assert_lists_with_error([4, -5, 4], sub_res.values, 0.0001)\n",
    "assert_with_error(8, scalar_res, 0.0001)\n",
    "assert_lists_with_error([-23, -8, 13], vector_res.values, 0.0001)\n",
    "assert_with_error(3.7417, norm, 0.0001)\n",
    "\n",
    "c = Vector([3, -2, 4.3, 11.11, 6.66])\n",
    "d = Vector([-7, 0, 5, 7, -5])\n",
    "sum_res = c + d\n",
    "sub_res = c - d\n",
    "scalar_res = c.scalar_multiply(d)\n",
    "norm = c.norm()\n",
    "assert c.dimension == 5\n",
    "assert d.dimension == 5\n",
    "assert_lists_with_error([-4, -2, 9.3, 18.11, 1.66], sum_res.values, 0.0001)\n",
    "assert_lists_with_error([10, -2, -0.7, 4.11, 11.66], sub_res.values, 0.0001)\n",
    "assert_with_error(44.97, scalar_res, 0.0001)\n",
    "assert_with_error(14.1166, norm, 0.0001)\n",
    "try:\n",
    "    c.vector_multiply(d)\n",
    "    assert False\n",
    "except ValueError:\n",
    "    assert True\n",
    "try:\n",
    "    _ = a + c\n",
    "    assert False\n",
    "except ValueError:\n",
    "    assert True\n",
    "try:\n",
    "    _ = a - c\n",
    "    assert False\n",
    "except ValueError:\n",
    "    assert True\n",
    "try:\n",
    "    _ = a.scalar_multiply(c)\n",
    "    assert False\n",
    "except ValueError:\n",
    "    assert True\n",
    "\n",
    "print('Ok?')"
   ],
   "metadata": {
    "collapsed": false,
    "pycharm": {
     "name": "#%%\n"
    }
   }
  },
  {
   "cell_type": "markdown",
   "metadata": {},
   "source": [
    "__Задание 4 (2 балл):__ Опишите декоратор, который принимает на вход функцию и при каждом её вызове печатает строку \"This function was called N times\", где N - число раз, которое это функция была вызвана на текущий момент (пока функция существует как объект, это число, очевидно, может только неубывать)."
   ]
  },
  {
   "cell_type": "code",
   "execution_count": null,
   "metadata": {},
   "outputs": [],
   "source": [
    "def calls_counter(func):\n",
    "    pass"
   ]
  },
  {
   "cell_type": "markdown",
   "metadata": {},
   "source": [
    "__Задание 5 (3 балла):__ Опишите декоратор класса, который принимает на вход другой класс и снабжает декорируемый класс всеми атрибутами входного класса, названия которых НЕ начинаются с \"\\_\". В случае конфликтов имён импортируемый атрибут должен получить имя с суффиксом \"\\_new\"."
   ]
  },
  {
   "cell_type": "code",
   "execution_count": null,
   "metadata": {},
   "outputs": [],
   "source": [
    "def copy_class_attrs(cls):\n",
    "    pass"
   ]
  },
  {
   "cell_type": "markdown",
   "metadata": {},
   "source": [
    "__Задание 6 (5 баллов):__ Опишите класс для хранения двумерных числовых матриц на основе списков. Реализуйте поддержку индексирования, итерирования по столбцам и строкам, по-элементные математические операции (с помощью магических методов), операцию умножения матрицы (как метод `dot` класса), транспонирование, поиска следа матрицы, а также поиск значения её определителя, если он существует, в противном случае соответствующий метод должен выводить сообщение об ошибке и возвращать `None`.\n",
    "\n",
    "Матрицу должно быть возможным создать из списка (в этом случае у неё будет одна строка), списка списков, или же передав явно три числа: число строк, число столбцов и значение по-умолчанию (которое можно не задавать, в этом случае оно принимается равным нулю). Все операции должны проверять корректность входных данных и выбрасывать исключение с информативным сообщением в случае ошибки.\n",
    "\n",
    "Матрица должна поддерживать методы сохранения на диск в текстовом и бинарном файле и методы обратной загрузки с диска для обоих вариантов. Также она должна поддерживать метод полного копирования. Обе процедуры должны быть реализованы с помощью шаблона \"примесь\" (Mixin), т.е. указанные функциональности должны быть описаны в специализированных классах.\n",
    "\n",
    "В реализации математических операций запрещается пользоваться любыми функциями, требующими использования оператора `import`."
   ]
  },
  {
   "cell_type": "code",
   "execution_count": null,
   "metadata": {},
   "outputs": [],
   "source": [
    "class Matrix:\n",
    "    pass"
   ]
  },
  {
   "cell_type": "markdown",
   "metadata": {
    "pycharm": {
     "name": "#%% md\n"
    }
   },
   "source": [
    "__Задание 7 (5 баллов):__ Ставится задача расчета стоимости чашки кофе. Опишите классы нескольких типов кофе (латте, капучино, американо), а также классы добавок к кофе (сахар, сливки, кардамон, пенка, сироп). Используйте шаблон \"декоратор\". Каждый класс должен характеризоваться методом вычисления стоимости чашки `calculate_cost`. Пользователь должен иметь возможность комбинировать любое число добавок с выбранным кофе и получить на выходе общую стоимость:\n",
    "\n",
    "```\n",
    "Cream(Sugar(Latte())).calculate_cost()\n",
    "```\n",
    "\n",
    "Первым элементом чашки всегда должен быть сам кофе, а не добавка, в противном случае при попытке создания чашки должно выбрасываться исключение:\n",
    "\n",
    "```\n",
    "Cream(Latte(Sugar())).calculate_cost() -> exception\n",
    "```\n",
    "\n",
    "Кофе может встречаться в чашке только один раз, в противном случае при попытке создания чашки должно выбрасываться исключение:\n",
    "\n",
    "```\n",
    "Cappuccino(Sugar(Latte())).calculate_cost() -> exception\n",
    "```\n",
    "\n",
    "Добавки могут включаться в чашку в любом количестве и порядке.\n",
    "Добавление новых типов кофе и добавок не должно требовать изменения существующего кода."
   ]
  }
 ],
 "metadata": {
  "kernelspec": {
   "display_name": "Python 3",
   "language": "python",
   "name": "python3"
  },
  "language_info": {
   "codemirror_mode": {
    "name": "ipython",
    "version": 3
   },
   "file_extension": ".py",
   "mimetype": "text/x-python",
   "name": "python",
   "nbconvert_exporter": "python",
   "pygments_lexer": "ipython3",
   "version": "3.7.3"
  }
 },
 "nbformat": 4,
 "nbformat_minor": 2
}