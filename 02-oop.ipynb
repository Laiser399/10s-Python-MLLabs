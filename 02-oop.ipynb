{
 "cells": [
  {
   "cell_type": "markdown",
   "metadata": {},
   "source": [
    "## Домашнее задание №2 (курс \"Практикум по программированию на языке Python\")"
   ]
  },
  {
   "cell_type": "markdown",
   "metadata": {},
   "source": [
    "### Тема: Объектно-ориентированное программирование на языке Python.\n",
    "\n",
    "#### Преподаватель: Мурат Апишев (mel-lain@yandex.ru)\n",
    "\n",
    "**Выдана**:   21 марта 2022\n",
    "\n",
    "**Дедлайн**:   21:00 04 апреля 2021\n",
    "\n",
    "**Среда выполнения**: Jupyter Notebook (Python 3.7)\n",
    "\n",
    "#### Правила:\n",
    "\n",
    "Результат выполнения задания - Jupyter Notebook с кодом и подробными ответами в случае теоретических вопросов. __Максимальное число баллов за задание - 20__.\n",
    "\n",
    "Все ячейки должны быть \"выполненными\", при этом результат должен воспроизводиться при проверке (на Python 3.7). Если какой-то код не был запущен или отрабатывает с ошибками, то пункт не засчитывается. Задание, сданное после дедлайна, _не принимается_. Можно отправить недоделанное задание, выполненные пункты будут оценены.\n",
    "\n",
    "Готовое задание отправляется на почту преподавателя.\n",
    "\n",
    "Задание выполняется самостоятельно. Если какие-то студенты будут уличены в списывании, все они автоматически получат за эту работу 0 баллов. Если вы нашли в Интернете какой-то специфичный код, который собираетесь заимствовать, обязательно укажите это в задании - наверняка вы не единственный, кто найдёт и использует эту информацию.\n",
    "\n",
    "Удалять фрагменты формулировок заданий запрещается."
   ]
  },
  {
   "cell_type": "markdown",
   "metadata": {},
   "source": [
    "#### Постановка задачи:\n",
    "\n",
    "- В данной работе нужно\n",
    "    - ответить на ряд теоретических вопросов;\n",
    "    - решить набор задач, проверяющих владение ООП-инструментами языка;\n",
    "    - решить задачу на проектирование кода.\n",
    "- Ответы на теоретические вопросы должны быть полными и обоснованными.\n",
    "- Каждая задача представляет собой написание функции или класса, а также набора тестов, проверяющих работу решения в общих и крайних случаях.\n",
    "- Отсутствие тестов автоматически уменьшает количество баллов за задание как минимум в два раза, некачественные тесты также будут штрафоваться.\n",
    "- Даже если это не указано явно в требованиях, код должен быть по возможности неизбыточным, работать с разумной сложностью и объёмом потребялемой памяти, проверяющие могут снизить балл за задание, выполненное без учёта этого требования.\n",
    "- Результирующий код должен быть читаемым, с единой системой отступов и адеквантными названиями переменных, проверяющие могут снизить балл за задание, выполненное без учёта этого требования."
   ]
  },
  {
   "cell_type": "markdown",
   "metadata": {},
   "source": [
    "__Задание 1 (2 балла):__ Дайте подробные ответы на следующие вопросы:\n",
    "\n",
    "1. В чём смысл инкапсуляции? Приведите пример конкретной ситуации в коде, в которой нарушение инкапсуляции приводит к проблемам.\n",
    "2. Какой метод называется статическим? Что такое параметр `self`?\n",
    "3. В чём отличия методов `__new__` и `__init__`?\n",
    "4. Какие виды отношений классов вы знаете? Для каждого приведите примеры. Укажите взаимные различия.\n",
    "5. Зачем нужны фабрики? Опишите смысл использования фабричного метода, фабрики и абстрактной фабрики, а также их взаимные отличия."
   ]
  },
  {
   "cell_type": "markdown",
   "metadata": {},
   "source": [
    "__Задание 2 (1 балл):__ Опишите класс комплексных чисел. У пользователя должна быть возможность создать его объект на основе числа и в алгебраической форме, и в полярной. Класс должен поддерживать основные математические операции (+, -, \\*, /) за счет перегрузки соответствующих магических методов. Также он должен поддерживать возможность получить число в алгебраической и полярной форме. Допускается использование модуля `math`."
   ]
  },
  {
   "cell_type": "code",
   "execution_count": 1,
   "metadata": {},
   "outputs": [],
   "source": [
    "import math\n",
    "from typing import Union\n",
    "\n",
    "\n",
    "class ComplexNumber:\n",
    "    def __init__(self, real: float, imagine: float = None):\n",
    "        if imagine is None:\n",
    "            imagine = 0\n",
    "        self._real = real\n",
    "        self._imagine = imagine\n",
    "\n",
    "    def __add__(self, other: Union['ComplexNumber', float]) -> 'ComplexNumber':\n",
    "        if isinstance(other, ComplexNumber):\n",
    "            return ComplexNumber(self.real + other.real, self.imagine + other.imagine)\n",
    "        return ComplexNumber(self.real + other, self.imagine)\n",
    "\n",
    "    def __sub__(self, other: Union['ComplexNumber', float]) -> 'ComplexNumber':\n",
    "        if isinstance(other, ComplexNumber):\n",
    "            return ComplexNumber(self.real - other.real, self.imagine - other.imagine)\n",
    "        return ComplexNumber(self.real - other, self.imagine)\n",
    "\n",
    "    def __mul__(self, other: Union['ComplexNumber', float]) -> 'ComplexNumber':\n",
    "        if isinstance(other, ComplexNumber):\n",
    "            real = self.real * other.real - self.imagine * other.imagine\n",
    "            imagine = self.real * other.imagine + self.imagine * other.real\n",
    "            return ComplexNumber(real, imagine)\n",
    "        return ComplexNumber(self.real * other, self.imagine * other)\n",
    "\n",
    "    def __truediv__(self, other: Union['ComplexNumber', float]) -> 'ComplexNumber':\n",
    "        if isinstance(other, ComplexNumber):\n",
    "            if other.real == 0 and other.imagine == 0:\n",
    "                raise ValueError('Division by zero.')\n",
    "            denominator = other.real ** 2 + other.imagine ** 2\n",
    "            real = (self.real * other.real + self.imagine * other.imagine) / denominator\n",
    "            imagine = (self.imagine * other.real - self.real * other.imagine) / denominator\n",
    "            return ComplexNumber(real, imagine)\n",
    "\n",
    "        if other == 0:\n",
    "            raise ValueError('Division by zero.')\n",
    "        return ComplexNumber(self.real / other, self.imagine / other)\n",
    "\n",
    "    def get_polar_values(self) -> (float, float):\n",
    "        radius = math.sqrt(self.real ** 2 + self.imagine ** 2)\n",
    "        angle = math.atan2(self.imagine, self.real) % math.pi\n",
    "        return radius, angle\n",
    "\n",
    "    @property\n",
    "    def real(self) -> float:\n",
    "        return self._real\n",
    "\n",
    "    @property\n",
    "    def imagine(self) -> float:\n",
    "        return self._imagine\n",
    "\n",
    "    @staticmethod\n",
    "    def from_polar(radius: float, angle: float) -> 'ComplexNumber':\n",
    "        return ComplexNumber(radius * math.cos(angle), radius * math.sin(angle))"
   ]
  },
  {
   "cell_type": "code",
   "execution_count": 2,
   "outputs": [
    {
     "name": "stdout",
     "output_type": "stream",
     "text": [
      "Ok?\n"
     ]
    }
   ],
   "source": [
    "def assert_with_error(expected, actual, error):\n",
    "    assert expected - error < actual < expected + error\n",
    "\n",
    "\n",
    "a = ComplexNumber(1, -3.3)\n",
    "b = ComplexNumber(-4.1, 2)\n",
    "c = ComplexNumber(7)\n",
    "zero = ComplexNumber(0)\n",
    "\n",
    "assert a.real == 1\n",
    "assert a.imagine == -3.3\n",
    "assert c.real == 7\n",
    "assert c.imagine == 0\n",
    "\n",
    "polar = ComplexNumber.from_polar(2, 0.785)\n",
    "assert_with_error(1.414, polar.real, 0.001)\n",
    "assert_with_error(1.414, polar.imagine, 0.001)\n",
    "\n",
    "radius, angle = a.get_polar_values()\n",
    "assert_with_error(3.448, radius, 0.001)\n",
    "assert_with_error(1.865, angle, 0.001)\n",
    "\n",
    "sum_res = a + b\n",
    "assert_with_error(-3.1, sum_res.real, 0.0001)\n",
    "assert_with_error(-1.3, sum_res.imagine, 0.0001)\n",
    "\n",
    "sub_res = a - b\n",
    "assert_with_error(5.1, sub_res.real, 0.0001)\n",
    "assert_with_error(-5.3, sub_res.imagine, 0.0001)\n",
    "\n",
    "mul_res = a * b\n",
    "assert_with_error(2.5, mul_res.real, 0.0001)\n",
    "assert_with_error(15.53, mul_res.imagine, 0.0001)\n",
    "\n",
    "div_res = a / b\n",
    "assert_with_error(-0.5142, div_res.real, 0.0001)\n",
    "assert_with_error(0.5541, div_res.imagine, 0.0001)\n",
    "\n",
    "try:\n",
    "    _ = a / zero\n",
    "    assert False\n",
    "except ValueError as err:\n",
    "    assert True\n",
    "\n",
    "sum_res = a + 3.3\n",
    "assert isinstance(sum_res, ComplexNumber)\n",
    "assert_with_error(4.3, sum_res.real, 0.0001)\n",
    "assert_with_error(-3.3, sum_res.imagine, 0.0001)\n",
    "\n",
    "sub_res = a - 3.3\n",
    "assert isinstance(sub_res, ComplexNumber)\n",
    "assert_with_error(-2.3, sub_res.real, 0.0001)\n",
    "assert_with_error(-3.3, sub_res.imagine, 0.0001)\n",
    "\n",
    "mul_res = a * 3.3\n",
    "assert isinstance(mul_res, ComplexNumber)\n",
    "assert_with_error(3.3, mul_res.real, 0.0001)\n",
    "assert_with_error(-10.89, mul_res.imagine, 0.0001)\n",
    "\n",
    "div_res = a / 3.3\n",
    "assert isinstance(div_res, ComplexNumber)\n",
    "assert_with_error(0.303, div_res.real, 0.0001)\n",
    "assert_with_error(-1, div_res.imagine, 0.0001)\n",
    "\n",
    "try:\n",
    "    _ = a / 0\n",
    "    assert False\n",
    "except ValueError:\n",
    "    assert True\n",
    "\n",
    "print('Ok?')"
   ],
   "metadata": {
    "collapsed": false,
    "pycharm": {
     "name": "#%%\n"
    }
   }
  },
  {
   "cell_type": "markdown",
   "metadata": {},
   "source": [
    "__Задание 3 (2 балла):__ Опишите класс для векторов в N-мерном пространстве. В качестве основы  используйте список значений координат вектора, задаваемый `list`. Обеспечьте поддержку следующих операций: сложение, вычитание (с созданием нового вектора-результата), скалярное произведение, косинус угла, евклидова норма. Все операции, которые можно перегрузить с помощью магических методов, должны быть реализованы именно через них. Класс должен производить проверку консистентности аргументов для каждой операции и в случаях ошибок выбрасывать исключение `ValueError` с исчерпывающим объяснением ошибки."
   ]
  },
  {
   "cell_type": "code",
   "execution_count": 3,
   "metadata": {},
   "outputs": [],
   "source": [
    "from typing import List\n",
    "import math\n",
    "\n",
    "\n",
    "class Vector:\n",
    "    def __init__(self, vector_values_list: List[float]):\n",
    "        if len(vector_values_list) < 2:\n",
    "            raise ValueError('Invalid count of vector values. Min length is 2.')\n",
    "        self._values = vector_values_list\n",
    "        self._dimension = len(self._values)\n",
    "\n",
    "    def __add__(self, other: 'Vector') -> 'Vector':\n",
    "        if self.dimension != other.dimension:\n",
    "            raise ValueError('Dimensions of vectors are different.')\n",
    "        result_values = list(map(\n",
    "            lambda x: x[0] + x[1],\n",
    "            zip(self.values, other.values)\n",
    "        ))\n",
    "        return Vector(result_values)\n",
    "\n",
    "    def __sub__(self, other: 'Vector') -> 'Vector':\n",
    "        if self.dimension != other.dimension:\n",
    "            raise ValueError('Dimensions of vectors are different.')\n",
    "        result_values = list(map(\n",
    "            lambda x: x[0] - x[1],\n",
    "            zip(self.values, other.values)\n",
    "        ))\n",
    "        return Vector(result_values)\n",
    "\n",
    "    def scalar_multiply(self, other: 'Vector') -> float:\n",
    "        if self.dimension != other.dimension:\n",
    "            raise ValueError('Dimensions of vectors are different.')\n",
    "        return sum(\n",
    "            map(\n",
    "                lambda x: x[0] * x[1],\n",
    "                zip(self.values, other.values)\n",
    "            )\n",
    "        )\n",
    "\n",
    "    def vector_multiply(self, other: 'Vector') -> 'Vector':\n",
    "        if self.dimension != 3 or other.dimension != 3:\n",
    "            raise ValueError('Wrong dimensions for vector multiply.')\n",
    "        return Vector([\n",
    "            self.values[1] * other.values[2] - self.values[2] * other.values[1],\n",
    "            self.values[2] * other.values[0] - self.values[0] * other.values[2],\n",
    "            self.values[0] * other.values[1] - self.values[1] * other.values[0]\n",
    "        ])\n",
    "\n",
    "    def norm(self) -> float:\n",
    "        return math.sqrt(sum(map(\n",
    "            lambda x: x ** 2,\n",
    "            self.values\n",
    "        )))\n",
    "\n",
    "    def cos_of_angle(self, other: 'Vector') -> float:\n",
    "        return self.scalar_multiply(other) / (self.norm() * other.norm())\n",
    "\n",
    "    @property\n",
    "    def values(self) -> List[float]:\n",
    "        return self._values\n",
    "\n",
    "    @property\n",
    "    def dimension(self) -> int:\n",
    "        return self._dimension"
   ]
  },
  {
   "cell_type": "code",
   "execution_count": 4,
   "outputs": [
    {
     "name": "stdout",
     "output_type": "stream",
     "text": [
      "Ok?\n"
     ]
    }
   ],
   "source": [
    "try:\n",
    "    a = Vector([])\n",
    "    assert False\n",
    "except ValueError:\n",
    "    assert True\n",
    "\n",
    "try:\n",
    "    a = Vector([1])\n",
    "    assert False\n",
    "except ValueError:\n",
    "    assert True\n",
    "\n",
    "\n",
    "def assert_lists_with_error(expected: List[float], actual: List[float], error: float):\n",
    "    assert len(expected) == len(actual)\n",
    "    for e, a in zip(expected, actual):\n",
    "        assert e - error < a < e + error\n",
    "\n",
    "\n",
    "a = Vector([1, 2, 3])\n",
    "b = Vector([-3, 7, -1])\n",
    "\n",
    "sum_res = a + b\n",
    "sub_res = a - b\n",
    "scalar_res = a.scalar_multiply(b)\n",
    "vector_res = a.vector_multiply(b)\n",
    "norm = a.norm()\n",
    "cos_of_angle = a.cos_of_angle(b)\n",
    "\n",
    "assert a.dimension == 3\n",
    "assert b.dimension == 3\n",
    "assert_lists_with_error([-2, 9, 2], sum_res.values, 0.0001)\n",
    "assert_lists_with_error([4, -5, 4], sub_res.values, 0.0001)\n",
    "assert_with_error(8, scalar_res, 0.0001)\n",
    "assert_lists_with_error([-23, -8, 13], vector_res.values, 0.0001)\n",
    "assert_with_error(3.7417, norm, 0.0001)\n",
    "assert_with_error(0.2784, cos_of_angle, 0.0001)\n",
    "\n",
    "c = Vector([3, -2, 4.3, 11.11, 6.66])\n",
    "d = Vector([-7, 0, 5, 7, -5])\n",
    "\n",
    "sum_res = c + d\n",
    "sub_res = c - d\n",
    "scalar_res = c.scalar_multiply(d)\n",
    "norm = c.norm()\n",
    "cos_of_angle = c.cos_of_angle(d)\n",
    "\n",
    "assert c.dimension == 5\n",
    "assert d.dimension == 5\n",
    "assert_lists_with_error([-4, -2, 9.3, 18.11, 1.66], sum_res.values, 0.0001)\n",
    "assert_lists_with_error([10, -2, -0.7, 4.11, 11.66], sub_res.values, 0.0001)\n",
    "assert_with_error(44.97, scalar_res, 0.0001)\n",
    "assert_with_error(14.1166, norm, 0.0001)\n",
    "assert_with_error(0.2619, cos_of_angle, 0.0001)\n",
    "\n",
    "try:\n",
    "    c.vector_multiply(d)\n",
    "    assert False\n",
    "except ValueError:\n",
    "    assert True\n",
    "try:\n",
    "    _ = a + c\n",
    "    assert False\n",
    "except ValueError:\n",
    "    assert True\n",
    "try:\n",
    "    _ = a - c\n",
    "    assert False\n",
    "except ValueError:\n",
    "    assert True\n",
    "try:\n",
    "    _ = a.scalar_multiply(c)\n",
    "    assert False\n",
    "except ValueError:\n",
    "    assert True\n",
    "try:\n",
    "    _ = a.cos_of_angle(c)\n",
    "    assert False\n",
    "except ValueError:\n",
    "    assert True\n",
    "\n",
    "print('Ok?')"
   ],
   "metadata": {
    "collapsed": false,
    "pycharm": {
     "name": "#%%\n"
    }
   }
  },
  {
   "cell_type": "markdown",
   "metadata": {},
   "source": [
    "__Задание 4 (2 балл):__ Опишите декоратор, который принимает на вход функцию и при каждом её вызове печатает строку \"This function was called N times\", где N - число раз, которое это функция была вызвана на текущий момент (пока функция существует как объект, это число, очевидно, может только неубывать)."
   ]
  },
  {
   "cell_type": "code",
   "execution_count": 5,
   "metadata": {},
   "outputs": [
    {
     "name": "stdout",
     "output_type": "stream",
     "text": [
      "first_func called with args: (1,) and kwargs: {}\n",
      "This function was called 1 times\n",
      "first_func called with args: ('hello',) and kwargs: {'arg': 42}\n",
      "This function was called 2 times\n",
      "first_func called with args: () and kwargs: {}\n",
      "This function was called 3 times\n",
      "This function was called 1 times\n",
      "This function was called 2 times\n",
      "first_func called with args: () and kwargs: {}\n",
      "This function was called 4 times\n",
      "This function was called 3 times\n"
     ]
    }
   ],
   "source": [
    "def calls_counter(func):\n",
    "    counter = [0]\n",
    "\n",
    "    def decorated(*args, **kwargs):\n",
    "        func(*args, **kwargs)\n",
    "        counter[0] += 1\n",
    "        print(f'This function was called {counter[0]} times')\n",
    "\n",
    "    return decorated\n",
    "\n",
    "\n",
    "@calls_counter\n",
    "def first_func(*args, **kwargs):\n",
    "    print(f'first_func called with args: {args} and kwargs: {kwargs}')\n",
    "\n",
    "\n",
    "@calls_counter\n",
    "def second_func():\n",
    "    ...\n",
    "\n",
    "\n",
    "first_func(1)\n",
    "first_func('hello', arg=42)\n",
    "first_func()\n",
    "second_func()\n",
    "second_func()\n",
    "first_func()\n",
    "second_func()"
   ]
  },
  {
   "cell_type": "markdown",
   "metadata": {},
   "source": [
    "__Задание 5 (3 балла):__ Опишите декоратор класса, который принимает на вход другой класс и снабжает декорируемый класс всеми атрибутами входного класса, названия которых НЕ начинаются с \"\\_\". В случае конфликтов имён импортируемый атрибут должен получить имя с суффиксом \"\\_new\"."
   ]
  },
  {
   "cell_type": "code",
   "execution_count": 6,
   "metadata": {},
   "outputs": [
    {
     "name": "stdout",
     "output_type": "stream",
     "text": [
      "Called func from target class.\n",
      "Called func from source class.\n",
      "Called source_func with value=some value. Obj value=42\n",
      "Ok?\n"
     ]
    }
   ],
   "source": [
    "def copy_class_attrs(source_class):\n",
    "    def set_attributes(target_class):\n",
    "        attrs_to_copy = list(filter(\n",
    "            lambda x: not x.startswith('_'),\n",
    "            dir(source_class)\n",
    "        ))\n",
    "        for source_attr_name in attrs_to_copy:\n",
    "            target_attr_name = source_attr_name\n",
    "            while hasattr(target_class, target_attr_name):\n",
    "                target_attr_name += '_new'\n",
    "            setattr(target_class, target_attr_name, getattr(source_class, source_attr_name))\n",
    "        return target_class\n",
    "\n",
    "    return set_attributes\n",
    "\n",
    "\n",
    "class SourceClass:\n",
    "    hello_message = 'Hello, Source'\n",
    "    only_source_value = 'sourceeeeeeee'\n",
    "    very = 'WRYYYYYY'\n",
    "    _not_for_copy_value = 'private source'\n",
    "\n",
    "    def func(self):\n",
    "        print('Called func from source class.')\n",
    "\n",
    "    def source_func(self, value):\n",
    "        print(f'Called source_func with value={value}. Obj value={self._obj_value}')\n",
    "\n",
    "    def _not_for_copy_func(self):\n",
    "        pass\n",
    "\n",
    "\n",
    "@copy_class_attrs(SourceClass)\n",
    "class TargetClass:\n",
    "    hello_message = 'Hello, Target'\n",
    "    very = 'very very'\n",
    "    very_new = 'NEW???'\n",
    "\n",
    "    def __init__(self, value):\n",
    "        self._obj_value = value\n",
    "\n",
    "    def func(self):\n",
    "        print('Called func from target class.')\n",
    "\n",
    "\n",
    "target = TargetClass(42)\n",
    "\n",
    "target.func()\n",
    "assert target.func_new is not None\n",
    "target.func_new()\n",
    "assert target.source_func is not None\n",
    "target.source_func('some value')\n",
    "assert TargetClass.hello_message == 'Hello, Target'\n",
    "assert TargetClass.hello_message_new == 'Hello, Source'\n",
    "assert TargetClass.only_source_value == 'sourceeeeeeee'\n",
    "assert TargetClass.very == 'very very'\n",
    "assert TargetClass.very_new == 'NEW???'\n",
    "assert TargetClass.very_new_new == 'WRYYYYYY'\n",
    "assert not hasattr(TargetClass, '_not_for_copy_value')\n",
    "assert not hasattr(TargetClass, '_not_for_copy_func')\n",
    "\n",
    "print('Ok?')"
   ]
  },
  {
   "cell_type": "markdown",
   "metadata": {},
   "source": [
    "__Задание 6 (5 баллов):__ Опишите класс для хранения двумерных числовых матриц на основе списков. Реализуйте поддержку индексирования, итерирования по столбцам и строкам, по-элементные математические операции (с помощью магических методов), операцию умножения матрицы (как метод `dot` класса), транспонирование, поиска следа матрицы, а также поиск значения её определителя, если он существует, в противном случае соответствующий метод должен выводить сообщение об ошибке и возвращать `None`.\n",
    "\n",
    "Матрицу должно быть возможным создать из списка (в этом случае у неё будет одна строка), списка списков, или же передав явно три числа: число строк, число столбцов и значение по-умолчанию (которое можно не задавать, в этом случае оно принимается равным нулю). Все операции должны проверять корректность входных данных и выбрасывать исключение с информативным сообщением в случае ошибки.\n",
    "\n",
    "Матрица должна поддерживать методы сохранения на диск в текстовом и бинарном файле и методы обратной загрузки с диска для обоих вариантов. Также она должна поддерживать метод полного копирования. Обе процедуры должны быть реализованы с помощью шаблона \"примесь\" (Mixin), т.е. указанные функциональности должны быть описаны в специализированных классах.\n",
    "\n",
    "В реализации математических операций запрещается пользоваться любыми функциями, требующими использования оператора `import`."
   ]
  },
  {
   "cell_type": "code",
   "execution_count": 7,
   "metadata": {},
   "outputs": [],
   "source": [
    "from abc import ABC, abstractmethod\n",
    "from typing import Union, Literal, Sequence, Iterator, Optional, Callable, List\n",
    "from numbers import Number\n",
    "import json\n",
    "import struct\n",
    "\n",
    "\n",
    "class ISaveLoadable(ABC):\n",
    "    @abstractmethod\n",
    "    def save(self, file_path,\n",
    "             mode: Union[Literal['text'], Literal['binary']]):\n",
    "        pass\n",
    "\n",
    "    @abstractmethod\n",
    "    def load(self, file_path,\n",
    "             mode: Union[Literal['text'], Literal['binary']]):\n",
    "        pass\n",
    "\n",
    "\n",
    "class ICopyable(ABC):\n",
    "    @abstractmethod\n",
    "    def copy(self) -> 'ICopyable':\n",
    "        pass\n",
    "\n",
    "\n",
    "class MatrixRowIterator(Iterator):\n",
    "    def __init__(self, values: Sequence[Sequence[float]]):\n",
    "        self._values = values\n",
    "        self._index = -1\n",
    "\n",
    "    def __next__(self) -> Sequence[float]:\n",
    "        self._index += 1\n",
    "        if self._index >= len(self._values):\n",
    "            raise StopIteration\n",
    "        return self._values[self._index]\n",
    "\n",
    "\n",
    "class MatrixColumnIterator(Iterator):\n",
    "    def __init__(self, values: Sequence[Sequence[float]]):\n",
    "        self._values = values\n",
    "        self._index = -1\n",
    "\n",
    "    def __next__(self):\n",
    "        self._index += 1\n",
    "        if len(self._values) == 0 or self._index >= len(self._values[0]):\n",
    "            raise StopIteration\n",
    "        return [\n",
    "            self._values[i][self._index]\n",
    "            for i in range(len(self._values))\n",
    "        ]\n",
    "\n",
    "\n",
    "class Matrix(ISaveLoadable, ICopyable):\n",
    "    _byte_order = 'little'\n",
    "\n",
    "    def __init__(self, *args):\n",
    "        if len(args) == 1:\n",
    "            if not isinstance(args[0], list):\n",
    "                raise ValueError(f'Got {type(args[0])} instead of list.')\n",
    "            self._init_from_list(args[0])\n",
    "        elif 2 <= len(args) <= 3:\n",
    "            if not isinstance(args[0], int) or not isinstance(args[1], int):\n",
    "                raise ValueError(\n",
    "                    f'Expected integer rows count and columns count. Got {type(args[0])}, {type(args[1])} instead.')\n",
    "            init_value = args[2] if len(args) == 3 else 0\n",
    "            self._init_from_triplet(args[0], args[1], init_value)\n",
    "        else:\n",
    "            raise ValueError('Unknown constructor signature.')\n",
    "\n",
    "    def _init_from_list(self, values: List[Union[List[float], float]]):\n",
    "        if len(values) == 0:\n",
    "            raise ValueError('Got empty list.')\n",
    "        if isinstance(values[0], list):\n",
    "            self._init_from_list_of_lists(values)\n",
    "        else:\n",
    "            self._init_from_list_of_values(values)\n",
    "\n",
    "    def _init_from_list_of_lists(self, values: List[List[float]]):\n",
    "        if len(values[0]) == 0:\n",
    "            raise ValueError('Got empty list.')\n",
    "        for i in range(1, len(values)):\n",
    "            if len(values[i]) != len(values[0]):\n",
    "                raise ValueError('Invalid list sizes.')\n",
    "\n",
    "        self._rows_count = len(values)\n",
    "        self._columns_count = len(values[0])\n",
    "        self._values = values\n",
    "\n",
    "    def _init_from_list_of_values(self, values: List[float]):\n",
    "        self._rows_count = 1\n",
    "        self._columns_count = len(values)\n",
    "        self._values = [values]\n",
    "\n",
    "    def _init_from_triplet(self, rows_count: int, columns_count: int, init_value):\n",
    "        # todo remove code duplication\n",
    "        if rows_count < 1 or columns_count < 1:\n",
    "            raise ValueError  # todo text\n",
    "\n",
    "        self._rows_count = rows_count\n",
    "        self._columns_count = columns_count\n",
    "        self._values = [[init_value for _ in range(columns_count)] for _ in range(rows_count)]\n",
    "\n",
    "    @property\n",
    "    def rows_count(self) -> int:\n",
    "        return self._rows_count\n",
    "\n",
    "    @property\n",
    "    def columns_count(self) -> int:\n",
    "        return self._columns_count\n",
    "\n",
    "    def __getitem__(self, key) -> Union[Sequence[float], float]:\n",
    "        self._validate_item_key(key)\n",
    "        if isinstance(key, int):\n",
    "            return self._get_item_row(key)\n",
    "        else:\n",
    "            return self._get_item_value(key[0], key[1])\n",
    "\n",
    "    def _get_item_row(self, row_index: int) -> Sequence[float]:\n",
    "        self._validate_row_index(row_index)\n",
    "        return self._values[row_index]\n",
    "\n",
    "    def _get_item_value(self, row_index: int, column_index: int) -> float:\n",
    "        self._validate_row_index(row_index)\n",
    "        self._validate_column_index(column_index)\n",
    "        return self._values[row_index][column_index]\n",
    "\n",
    "    def __setitem__(self, key, value: Union[Sequence[float], float]):\n",
    "        self._validate_item_key(key)\n",
    "        if isinstance(key, int):\n",
    "            if not isinstance(value, Sequence):\n",
    "                raise ValueError(f'Got {type(value)} instead of list.')\n",
    "            self._set_item_row(key, value)\n",
    "        else:\n",
    "            self._set_item_value(key[0], key[1], value)\n",
    "\n",
    "    def _set_item_row(self, row_index: int, values: Sequence[float]):\n",
    "        self._validate_row_index(row_index)\n",
    "        if len(values) != self.columns_count:\n",
    "            raise ValueError(f'Got invalid count of values. '\n",
    "                             f'Columns count {self.columns_count}, but values count {len(values)}')\n",
    "        for columns_index in range(len(values)):\n",
    "            self._values[row_index][columns_index] = values[columns_index]\n",
    "\n",
    "    def _set_item_value(self, row_index: int, column_index: int, value: float):\n",
    "        self._validate_row_index(row_index)\n",
    "        self._validate_column_index(column_index)\n",
    "        self._values[row_index][column_index] = value\n",
    "\n",
    "    def _validate_row_index(self, row_index: int):\n",
    "        if row_index < 0 or row_index >= self.rows_count:\n",
    "            raise ValueError(f'Invalid row index: {row_index}')\n",
    "\n",
    "    def _validate_column_index(self, column_index: int):\n",
    "        if column_index < 0 or column_index >= self.columns_count:\n",
    "            raise ValueError(f'Invalid column index: {column_index}')\n",
    "\n",
    "    @classmethod\n",
    "    def _validate_item_key(cls, key):\n",
    "        if isinstance(key, int):\n",
    "            return\n",
    "        elif isinstance(key, tuple):\n",
    "            if len(key) != 2:\n",
    "                raise ValueError(f'Expected key with 2 values. Got {len(key)} values.')\n",
    "            for sub_key in key:\n",
    "                if not isinstance(sub_key, int):\n",
    "                    raise ValueError(f'Keys must be integer. Got key of type {type(sub_key)}.')\n",
    "        else:\n",
    "            raise ValueError('Unknown key type.')\n",
    "\n",
    "    def __add__(self, other: Union['Matrix', float]) -> 'Matrix':\n",
    "        if isinstance(other, Matrix):\n",
    "            self._validate_exact_sizes_match(other)\n",
    "            item_evaluator = lambda i, j: self._values[i][j] + other._values[i][j]\n",
    "        else:\n",
    "            item_evaluator = lambda i, j: self._values[i][j] + other\n",
    "\n",
    "        return self._from_evaluator(item_evaluator, self.rows_count, self.columns_count)\n",
    "\n",
    "    def __sub__(self, other: Union['Matrix', float]) -> 'Matrix':\n",
    "        if isinstance(other, Matrix):\n",
    "            self._validate_exact_sizes_match(other)\n",
    "            item_evaluator = lambda i, j: self._values[i][j] - other._values[i][j]\n",
    "        else:\n",
    "            item_evaluator = lambda i, j: self._values[i][j] - other\n",
    "\n",
    "        return self._from_evaluator(item_evaluator, self.rows_count, self.columns_count)\n",
    "\n",
    "    def _validate_exact_sizes_match(self, other: 'Matrix'):\n",
    "        if self.rows_count != other.rows_count or self.columns_count != other.columns_count:\n",
    "            raise ValueError('Inconsistent sizes of matrices for addition.')\n",
    "\n",
    "    def __mul__(self, other: Union['Matrix', float]) -> 'Matrix':\n",
    "        if isinstance(other, Matrix):\n",
    "            if self.columns_count != other.rows_count:\n",
    "                raise ValueError('Inconsistent sizes fo matrices fot multiplication.')\n",
    "            evaluator = lambda i, j: sum([\n",
    "                self._values[i][k] * other._values[k][j]\n",
    "                for k in range(self.columns_count)\n",
    "            ])\n",
    "            return self._from_evaluator(evaluator, self.rows_count, other.columns_count)\n",
    "        else:\n",
    "            evaluator = lambda i, j: self._values[i][j] * other\n",
    "            return self._from_evaluator(evaluator, self.rows_count, self.columns_count)\n",
    "\n",
    "    def __truediv__(self, other: Union['Matrix', float]) -> 'Matrix':\n",
    "        if isinstance(other, Number):\n",
    "            return self * (1 / other)\n",
    "        return self * other.inversed()\n",
    "\n",
    "    def iter_rows(self) -> Iterator[Sequence[float]]:\n",
    "        return MatrixRowIterator(self._values)\n",
    "\n",
    "    def iter_columns(self) -> Iterator[Sequence[float]]:\n",
    "        return MatrixColumnIterator(self._values)\n",
    "\n",
    "    def inversed(self) -> 'Matrix':\n",
    "        if self.rows_count != self.columns_count:\n",
    "            raise ValueError('Could not calculate inverse matrix, cause it\\'s not square.')\n",
    "        det = self.det()\n",
    "        if det == 0:\n",
    "            raise ValueError('Could not calculate inverse matrix, cause it has zero determinant.')\n",
    "        adjugate = self._adjugate()\n",
    "        return adjugate / det\n",
    "\n",
    "    def _adjugate(self):\n",
    "        evaluator = lambda i, j: (-1) ** (i + j) * self._minor(j, i)\n",
    "        return self._from_evaluator(evaluator, self.rows_count, self.columns_count)\n",
    "\n",
    "    def _minor(self, row_to_skip: int, column_to_skip: int) -> float:\n",
    "        return Matrix([\n",
    "            [\n",
    "                self._values[i][j]\n",
    "                for j in range(self.columns_count) if j != column_to_skip\n",
    "            ]\n",
    "            for i in range(self.rows_count) if i != row_to_skip\n",
    "        ]).det()\n",
    "\n",
    "    def transposed(self) -> 'Matrix':\n",
    "        evaluator = lambda i, j: self._values[j][i]\n",
    "        return self._from_evaluator(evaluator, self.columns_count, self.rows_count)\n",
    "\n",
    "    def trace(self) -> Optional[float]:\n",
    "        if self.rows_count != self.columns_count:\n",
    "            print('Could not calculate trace, cause matrix is not square.')\n",
    "            return None\n",
    "        return sum([self._values[i][i] for i in range(self.rows_count)])\n",
    "\n",
    "    def det(self) -> Optional[float]:\n",
    "        if self.rows_count != self.columns_count:\n",
    "            print('Could not calculate determinant, cause matrix is not square.')\n",
    "            return None\n",
    "\n",
    "        def first_non_zero_beginning_row(values: List[List[float]], base_index: int) -> Optional[int]:\n",
    "            for i in range(base_index, len(values)):\n",
    "                if values[i][base_index] != 0:\n",
    "                    return i\n",
    "            return None\n",
    "\n",
    "        def swap_rows(values: List[List[float]], i: int, j: int) -> bool:\n",
    "            if i == j:\n",
    "                return False\n",
    "            tm = values[i]\n",
    "            values[i] = values[j]\n",
    "            values[j] = tm\n",
    "            return True\n",
    "\n",
    "        def nullify_rows_below(values: List[List[float]], base_index: int):\n",
    "            for i in range(base_index + 1, len(values)):\n",
    "                if values[i][base_index] == 0:\n",
    "                    continue\n",
    "                multiplier = values[i][base_index] / values[base_index][base_index]\n",
    "                values[i][base_index] = 0\n",
    "                for j in range(base_index + 1, len(values[i])):\n",
    "                    values[i][j] -= multiplier * values[base_index][j]\n",
    "\n",
    "        inverse_result = False\n",
    "        values = [row.copy() for row in self._values]\n",
    "        result = 1\n",
    "        for i in range(len(values)):\n",
    "            row_to_swap = first_non_zero_beginning_row(values, i)\n",
    "            if row_to_swap is None:\n",
    "                return 0\n",
    "            if swap_rows(values, i, row_to_swap):\n",
    "                inverse_result = not inverse_result\n",
    "            nullify_rows_below(values, i)\n",
    "            result *= values[i][i]\n",
    "\n",
    "        return result if not inverse_result else -result\n",
    "\n",
    "    def save(self, file_path,\n",
    "             mode: Union[Literal['text'], Literal['binary']]):\n",
    "        if mode == 'text':\n",
    "            self._save_in_text_format(file_path)\n",
    "        elif mode == 'binary':\n",
    "            self._save_in_binary_format(file_path)\n",
    "        else:\n",
    "            raise ValueError(f'Unknown mode: {mode}.')\n",
    "\n",
    "    def _save_in_text_format(self, file_path):\n",
    "        with open(file_path, 'w') as output_file:\n",
    "            json.dump(self._values, output_file)\n",
    "\n",
    "    def _save_in_binary_format(self, file_path):\n",
    "        # https://stackoverflow.com/questions/36893206/converting-a-float-to-bytearray\n",
    "\n",
    "        with open(file_path, 'wb') as output_file:\n",
    "            output_file.write(self.rows_count.to_bytes(4, self._byte_order))\n",
    "            output_file.write(self.columns_count.to_bytes(4, self._byte_order))\n",
    "            for row in self._values:\n",
    "                for value in row:\n",
    "                    output_file.write(struct.pack('d', value))\n",
    "\n",
    "    def load(self, file_path,\n",
    "             mode: Union[Literal['text'], Literal['binary']]):\n",
    "        if mode == 'text':\n",
    "            self._load_from_text_format(file_path)\n",
    "        elif mode == 'binary':\n",
    "            self._load_from_binary_format(file_path)\n",
    "        else:\n",
    "            raise ValueError(f'Unknown mode: {mode}.')\n",
    "\n",
    "    def _load_from_text_format(self, file_path):\n",
    "        with open(file_path, 'r') as input_file:\n",
    "            values = json.load(input_file)\n",
    "\n",
    "        if not isinstance(values, list):\n",
    "            raise ValueError('Wrong input file format.')\n",
    "        for row in values:\n",
    "            if not isinstance(row, list):\n",
    "                raise ValueError('Wrong input file format.')\n",
    "            for value in row:\n",
    "                if not isinstance(value, Number):\n",
    "                    raise ValueError('Wrong input file format.')\n",
    "\n",
    "        if len(values) == 0 or len(values[0]) == 0:\n",
    "            raise ValueError('File contains empty list.')\n",
    "        for i in range(1, len(values)):\n",
    "            if len(values[i]) != len(values[0]):\n",
    "                raise ValueError('Inconsistent sizes of sub-lists.')\n",
    "\n",
    "        self._rows_count = len(values)\n",
    "        self._columns_count = len(values[0])\n",
    "        self._values = values\n",
    "\n",
    "    def _load_from_binary_format(self, file_path):\n",
    "        with open(file_path, 'rb') as input_file:\n",
    "            content = input_file.read()\n",
    "        if len(content) < 8:\n",
    "            raise ValueError('Input file does not contain rows and columns counts.')\n",
    "        rows_count = int.from_bytes(content[0:4], self._byte_order)\n",
    "        columns_count = int.from_bytes(content[4:8], self._byte_order)\n",
    "        if rows_count < 1 or columns_count < 1:\n",
    "            raise ValueError('Input file contains invalid rows and columns counts.')\n",
    "        bytes_per_value = 8\n",
    "        expected_bytes_count = rows_count * columns_count * bytes_per_value\n",
    "        if len(content) - 8 != expected_bytes_count:\n",
    "            raise ValueError('Length of file does not match declared rows and columns counts.')\n",
    "\n",
    "        flat_values = list(map(\n",
    "            lambda x: x[0],\n",
    "            struct.iter_unpack('d', content[8:])\n",
    "        ))\n",
    "        values = [\n",
    "            [\n",
    "                flat_values[i * columns_count + j]\n",
    "                for j in range(columns_count)\n",
    "            ]\n",
    "            for i in range(rows_count)\n",
    "        ]\n",
    "\n",
    "        self._rows_count = rows_count\n",
    "        self._columns_count = columns_count\n",
    "        self._values = values\n",
    "\n",
    "    def copy(self) -> 'Matrix':\n",
    "        return self._from_evaluator(lambda i, j: self._values[i][j],\n",
    "                                    self.rows_count, self.columns_count)\n",
    "\n",
    "    @classmethod\n",
    "    def _from_evaluator(cls, evaluator: Callable[[int, int], float],\n",
    "                        rows_count: int, columns_count: int) -> 'Matrix':\n",
    "        return Matrix([\n",
    "            [\n",
    "                evaluator(i, j)\n",
    "                for j in range(columns_count)\n",
    "            ]\n",
    "            for i in range(rows_count)\n",
    "        ])\n",
    "\n",
    "    def __repr__(self):\n",
    "        return f'Matrix({self.rows_count}, {self.columns_count}, {self._values})'"
   ]
  },
  {
   "cell_type": "code",
   "execution_count": 8,
   "outputs": [],
   "source": [
    "import os\n",
    "\n",
    "\n",
    "def should_raise_value_error(func):\n",
    "    try:\n",
    "        func()\n",
    "        assert False\n",
    "    except ValueError:\n",
    "        assert True\n",
    "\n",
    "\n",
    "def sequences_should_be_equal(expected: Sequence, actual: Sequence, error=0):\n",
    "    assert len(expected) == len(actual)\n",
    "    for e, a in zip(expected, actual):\n",
    "        assert e - error <= a <= e + error"
   ],
   "metadata": {
    "collapsed": false,
    "pycharm": {
     "name": "#%%\n"
    }
   }
  },
  {
   "cell_type": "code",
   "execution_count": 9,
   "outputs": [
    {
     "name": "stdout",
     "output_type": "stream",
     "text": [
      "Ok\n"
     ]
    }
   ],
   "source": [
    "# constructor\n",
    "should_raise_value_error(lambda: Matrix())\n",
    "should_raise_value_error(lambda: Matrix([]))\n",
    "should_raise_value_error(lambda: Matrix([[]]))\n",
    "should_raise_value_error(lambda: Matrix([[1], []]))\n",
    "should_raise_value_error(lambda: Matrix([[], []]))\n",
    "should_raise_value_error(lambda: Matrix([[1, 2], [3, 4, 5]]))\n",
    "should_raise_value_error(lambda: Matrix(3))\n",
    "should_raise_value_error(lambda: Matrix(-1, 1))\n",
    "should_raise_value_error(lambda: Matrix(1, -1))\n",
    "Matrix([1, 3])\n",
    "Matrix([[1]])\n",
    "Matrix([[1, 4]])\n",
    "Matrix([[1, 2], [3, -4]])\n",
    "Matrix([[1, 2], [3, -4], [7, 7]])\n",
    "Matrix(1, 1)\n",
    "Matrix(1, 1, -33)\n",
    "Matrix(13, 7, 42)\n",
    "print('Ok')"
   ],
   "metadata": {
    "collapsed": false,
    "pycharm": {
     "name": "#%%\n"
    }
   }
  },
  {
   "cell_type": "code",
   "execution_count": 10,
   "outputs": [
    {
     "name": "stdout",
     "output_type": "stream",
     "text": [
      "Ok\n"
     ]
    }
   ],
   "source": [
    "a = Matrix([[-1, 6, 8], [0, 3, 4], [6, 6, 6]])\n",
    "d = Matrix(2, 3)\n",
    "e = Matrix(3, 4, 5)\n",
    "\n",
    "# rows_count\n",
    "assert a.rows_count == 3\n",
    "assert d.rows_count == 2\n",
    "assert e.rows_count == 3\n",
    "\n",
    "# columns_count\n",
    "assert a.columns_count == 3\n",
    "assert d.columns_count == 3\n",
    "assert e.columns_count == 4\n",
    "print('Ok')"
   ],
   "metadata": {
    "collapsed": false,
    "pycharm": {
     "name": "#%%\n"
    }
   }
  },
  {
   "cell_type": "code",
   "execution_count": 11,
   "outputs": [
    {
     "name": "stdout",
     "output_type": "stream",
     "text": [
      "Ok\n"
     ]
    }
   ],
   "source": [
    "a = Matrix([[-1, 6, 8], [0, 3, 4], [6, 6, 6]])\n",
    "b = Matrix([[-1, 6, 8], [0, 3, 4]])\n",
    "d = Matrix(2, 3)\n",
    "e = Matrix(3, 4, 5)\n",
    "\n",
    "# get item\n",
    "assert a[0, 0] == -1\n",
    "assert a[1, 2] == 4\n",
    "assert d[0, 0] == 0\n",
    "assert d[1, 2] == 0\n",
    "assert e[0, 0] == 5\n",
    "assert e[2, 3] == 5\n",
    "sequences_should_be_equal([-1, 6, 8], a[0])\n",
    "sequences_should_be_equal([0, 3, 4], b[1])\n",
    "sequences_should_be_equal([0, 0, 0], d[0])\n",
    "sequences_should_be_equal([5, 5, 5, 5], e[0])\n",
    "should_raise_value_error(lambda: a[-1])\n",
    "should_raise_value_error(lambda: a[3])\n",
    "should_raise_value_error(lambda: a[-1, 0])\n",
    "should_raise_value_error(lambda: a[0, -1])\n",
    "should_raise_value_error(lambda: a[3, 0])\n",
    "should_raise_value_error(lambda: a[0, 3])\n",
    "print('Ok')"
   ],
   "metadata": {
    "collapsed": false,
    "pycharm": {
     "name": "#%%\n"
    }
   }
  },
  {
   "cell_type": "code",
   "execution_count": 12,
   "outputs": [
    {
     "name": "stdout",
     "output_type": "stream",
     "text": [
      "Ok\n"
     ]
    }
   ],
   "source": [
    "a = Matrix([[-1, 6, 8], [0, 3, 4], [6, 6, 6]])\n",
    "\n",
    "# set item\n",
    "a[0, 0] = 42\n",
    "assert a[0, 0] == 42\n",
    "a[1] = [6, 6, 6]\n",
    "sequences_should_be_equal([6, 6, 6], a[1])\n",
    "should_raise_value_error(lambda: a.__setitem__(0, [1, 2]))\n",
    "should_raise_value_error(lambda: a.__setitem__(0, [3, 4, 5, 6]))\n",
    "should_raise_value_error(lambda: a.__setitem__(-1, [6, 6, 6]))\n",
    "should_raise_value_error(lambda: a.__setitem__(3, [6, 6, 6]))\n",
    "should_raise_value_error(lambda: a.__setitem__((-1, 0), 666))\n",
    "should_raise_value_error(lambda: a.__setitem__((0, -1), 666))\n",
    "should_raise_value_error(lambda: a.__setitem__((3, 0), 666))\n",
    "should_raise_value_error(lambda: a.__setitem__((0, 3), 666))\n",
    "print('Ok')"
   ],
   "metadata": {
    "collapsed": false,
    "pycharm": {
     "name": "#%%\n"
    }
   }
  },
  {
   "cell_type": "code",
   "execution_count": 13,
   "outputs": [
    {
     "name": "stdout",
     "output_type": "stream",
     "text": [
      "Ok\n"
     ]
    }
   ],
   "source": [
    "a = Matrix([[-1, 6, 8], [0, 3, 4], [6, 6, 6]])\n",
    "b = Matrix([[-1, 6, 8], [0, 3, 4]])\n",
    "f = Matrix(3, 3, 3)\n",
    "\n",
    "# +\n",
    "sum_res = a + f\n",
    "assert sum_res[0, 0] == 2\n",
    "assert sum_res[2, 2] == 9\n",
    "sum_res = a + 2\n",
    "assert sum_res[0, 0] == 1\n",
    "assert sum_res[2, 2] == 8\n",
    "should_raise_value_error(lambda: a + b)\n",
    "print('Ok')"
   ],
   "metadata": {
    "collapsed": false,
    "pycharm": {
     "name": "#%%\n"
    }
   }
  },
  {
   "cell_type": "code",
   "execution_count": 14,
   "outputs": [
    {
     "name": "stdout",
     "output_type": "stream",
     "text": [
      "Ok\n"
     ]
    }
   ],
   "source": [
    "a = Matrix([[-1, 6, 8], [0, 3, 4], [6, 6, 6]])\n",
    "b = Matrix([[-1, 6, 8], [0, 3, 4]])\n",
    "f = Matrix(3, 3, 3)\n",
    "\n",
    "# -\n",
    "sub_res = a - f\n",
    "assert sub_res[0, 0] == -4\n",
    "assert sub_res[2, 2] == 3\n",
    "sub_res = a - 2\n",
    "assert sub_res[0, 0] == -3\n",
    "assert sub_res[2, 2] == 4\n",
    "should_raise_value_error(lambda: a - b)\n",
    "print('Ok')"
   ],
   "metadata": {
    "collapsed": false,
    "pycharm": {
     "name": "#%%\n"
    }
   }
  },
  {
   "cell_type": "code",
   "execution_count": 15,
   "outputs": [
    {
     "name": "stdout",
     "output_type": "stream",
     "text": [
      "Ok\n"
     ]
    }
   ],
   "source": [
    "a = Matrix([[-1, 6, 8], [0, 3, 4], [6, 6, 6]])\n",
    "b = Matrix([[-1, 6, 8], [0, 3, 4]])\n",
    "c = Matrix([[6, 6], [-2, 1], [7, -7]])\n",
    "f = Matrix(3, 3, 3)\n",
    "\n",
    "# *\n",
    "mul_res = a * f\n",
    "sequences_should_be_equal([39, 39, 39], mul_res[0])\n",
    "sequences_should_be_equal([21, 21, 21], mul_res[1])\n",
    "sequences_should_be_equal([54, 54, 54], mul_res[2])\n",
    "mul_res = a * 2\n",
    "sequences_should_be_equal([-2, 12, 16], mul_res[0])\n",
    "sequences_should_be_equal([0, 6, 8], mul_res[1])\n",
    "sequences_should_be_equal([12, 12, 12], mul_res[2])\n",
    "should_raise_value_error(lambda: a * b)\n",
    "mul_res = b * c\n",
    "assert mul_res.rows_count == 2\n",
    "sequences_should_be_equal([38, -56], mul_res[0])\n",
    "sequences_should_be_equal([22, -25], mul_res[1])\n",
    "print('Ok')"
   ],
   "metadata": {
    "collapsed": false,
    "pycharm": {
     "name": "#%%\n"
    }
   }
  },
  {
   "cell_type": "code",
   "execution_count": 16,
   "outputs": [
    {
     "name": "stdout",
     "output_type": "stream",
     "text": [
      "Ok\n"
     ]
    }
   ],
   "source": [
    "a = Matrix([[-1, 6, 8], [0, 3, 4], [6, 6, 6]])\n",
    "b = Matrix([[-1, 6, 8], [0, 3, 4]])\n",
    "c = Matrix([[6, 6], [-2, 1], [7, -7]])\n",
    "zero_det = Matrix([[1, 1, 0], [1, 1, 0], [1, 1, 0]])\n",
    "g = Matrix([[1, 2, 3], [3, 3, 3], [5, -6, -7]])\n",
    "\n",
    "# inversed\n",
    "a_inversed = a.inversed()\n",
    "sequences_should_be_equal([-1, 6, 8], a[0])\n",
    "sequences_should_be_equal([-1, 2, 0], a_inversed[0])\n",
    "sequences_should_be_equal([4, -9, 2 / 3], a_inversed[1], 0.0001)\n",
    "sequences_should_be_equal([-3, 7, -0.5], a_inversed[2])\n",
    "should_raise_value_error(lambda: b.inversed())\n",
    "should_raise_value_error(lambda: c.inversed())\n",
    "should_raise_value_error(lambda: zero_det.inversed())\n",
    "\n",
    "g_inversed = g.inversed()\n",
    "sequences_should_be_equal([1 / 10, 2 / 15, 1 / 10], g_inversed[0], 0.0001)\n",
    "sequences_should_be_equal([-6 / 5, 11 / 15, -1 / 5], g_inversed[1], 0.0001)\n",
    "sequences_should_be_equal([11 / 10, -8 / 15, 1 / 10], g_inversed[2], 0.0001)\n",
    "\n",
    "print('Ok')"
   ],
   "metadata": {
    "collapsed": false,
    "pycharm": {
     "name": "#%%\n"
    }
   }
  },
  {
   "cell_type": "code",
   "execution_count": 17,
   "outputs": [
    {
     "name": "stdout",
     "output_type": "stream",
     "text": [
      "Ok\n"
     ]
    }
   ],
   "source": [
    "a = Matrix([[-1, 6, 8], [0, 3, 4], [6, 6, 6]])\n",
    "g = Matrix([[1, 2, 3], [3, 3, 3], [5, -6, -7]])\n",
    "zero_det = Matrix([[1, 1, 0], [1, 1, 0], [1, 1, 0]])\n",
    "\n",
    "# /\n",
    "div_res = a / g\n",
    "sequences_should_be_equal([1.5, 0, -0.5], div_res[0], 0.0001)\n",
    "sequences_should_be_equal([0.8, 0.06667, -0.2], div_res[1], 0.0001)\n",
    "sequences_should_be_equal([0, 2, 0], div_res[2], 0.0001)\n",
    "should_raise_value_error(lambda: a / zero_det)\n",
    "print('Ok')"
   ],
   "metadata": {
    "collapsed": false,
    "pycharm": {
     "name": "#%%\n"
    }
   }
  },
  {
   "cell_type": "code",
   "execution_count": 18,
   "outputs": [
    {
     "name": "stdout",
     "output_type": "stream",
     "text": [
      "Ok\n"
     ]
    }
   ],
   "source": [
    "a = Matrix([[-1, 6, 8], [0, 3, 4], [6, 6, 6]])\n",
    "\n",
    "# iter_rows\n",
    "rows = list(a.iter_rows())\n",
    "assert len(rows) == 3\n",
    "sequences_should_be_equal([-1, 6, 8], rows[0])\n",
    "sequences_should_be_equal([0, 3, 4], rows[1])\n",
    "sequences_should_be_equal([6, 6, 6], rows[2])\n",
    "print('Ok')"
   ],
   "metadata": {
    "collapsed": false,
    "pycharm": {
     "name": "#%%\n"
    }
   }
  },
  {
   "cell_type": "code",
   "execution_count": 19,
   "outputs": [
    {
     "name": "stdout",
     "output_type": "stream",
     "text": [
      "Ok\n"
     ]
    }
   ],
   "source": [
    "a = Matrix([[-1, 6, 8], [0, 3, 4], [6, 6, 6]])\n",
    "\n",
    "# iter_columns\n",
    "columns = list(a.iter_columns())\n",
    "assert len(columns) == 3\n",
    "sequences_should_be_equal([-1, 0, 6], columns[0])\n",
    "sequences_should_be_equal([6, 3, 6], columns[1])\n",
    "sequences_should_be_equal([8, 4, 6], columns[2])\n",
    "print('Ok')"
   ],
   "metadata": {
    "collapsed": false,
    "pycharm": {
     "name": "#%%\n"
    }
   }
  },
  {
   "cell_type": "code",
   "execution_count": 20,
   "outputs": [
    {
     "name": "stdout",
     "output_type": "stream",
     "text": [
      "Ok\n"
     ]
    }
   ],
   "source": [
    "c = Matrix([[6, 6], [-2, 1], [7, -7]])\n",
    "\n",
    "# transposed\n",
    "c_transposed = c.transposed()\n",
    "assert c_transposed.rows_count == 2\n",
    "assert c_transposed.columns_count == 3\n",
    "sequences_should_be_equal([6, -2, 7], c_transposed[0])\n",
    "sequences_should_be_equal([6, 1, -7], c_transposed[1])\n",
    "print('Ok')"
   ],
   "metadata": {
    "collapsed": false,
    "pycharm": {
     "name": "#%%\n"
    }
   }
  },
  {
   "cell_type": "code",
   "execution_count": 21,
   "outputs": [
    {
     "name": "stdout",
     "output_type": "stream",
     "text": [
      "Could not calculate trace, cause matrix is not square.\n",
      "Ok\n"
     ]
    }
   ],
   "source": [
    "a = Matrix([[-1, 6, 8], [0, 3, 4], [6, 6, 6]])\n",
    "b = Matrix([[-1, 6, 8], [0, 3, 4]])\n",
    "\n",
    "# trace\n",
    "trace = a.trace()\n",
    "assert trace == 8\n",
    "trace = b.trace()\n",
    "assert trace is None\n",
    "print('Ok')"
   ],
   "metadata": {
    "collapsed": false,
    "pycharm": {
     "name": "#%%\n"
    }
   }
  },
  {
   "cell_type": "code",
   "execution_count": 22,
   "outputs": [
    {
     "name": "stdout",
     "output_type": "stream",
     "text": [
      "Could not calculate determinant, cause matrix is not square.\n",
      "Ok\n"
     ]
    }
   ],
   "source": [
    "a = Matrix([[-1, 6, 8], [0, 3, 4], [6, 6, 6]])\n",
    "b = Matrix([[-1, 6, 8], [0, 3, 4]])\n",
    "\n",
    "# det\n",
    "det = a.det()\n",
    "assert det == 6\n",
    "det = b.det()\n",
    "assert det is None\n",
    "print('Ok')"
   ],
   "metadata": {
    "collapsed": false,
    "pycharm": {
     "name": "#%%\n"
    }
   }
  },
  {
   "cell_type": "code",
   "execution_count": 23,
   "outputs": [
    {
     "name": "stdout",
     "output_type": "stream",
     "text": [
      "Ok\n"
     ]
    }
   ],
   "source": [
    "a = Matrix([[-1, 6, 8], [0, 3, 4], [6, 6, 6]])\n",
    "\n",
    "text_file_path = 'tm.txt'\n",
    "binary_file_path = 'tm.bin'\n",
    "# save\n",
    "a.save(text_file_path, 'text')\n",
    "a.save(binary_file_path, 'binary')\n",
    "assert os.path.exists(text_file_path)\n",
    "assert os.path.exists(binary_file_path)\n",
    "\n",
    "# load\n",
    "a_text = Matrix(1, 1)\n",
    "a_text.load(text_file_path, 'text')\n",
    "assert a_text.rows_count == 3\n",
    "assert a_text.columns_count == 3\n",
    "sequences_should_be_equal([-1, 6, 8], a_text[0])\n",
    "sequences_should_be_equal([0, 3, 4], a_text[1])\n",
    "sequences_should_be_equal([6, 6, 6], a_text[2])\n",
    "\n",
    "a_binary = Matrix(1, 1)\n",
    "a_binary.load(binary_file_path, 'binary')\n",
    "assert a_binary.rows_count == 3\n",
    "assert a_binary.columns_count == 3\n",
    "sequences_should_be_equal([-1, 6, 8], a_binary[0])\n",
    "sequences_should_be_equal([0, 3, 4], a_binary[1])\n",
    "sequences_should_be_equal([6, 6, 6], a_binary[2])\n",
    "\n",
    "os.remove(binary_file_path)\n",
    "os.remove(text_file_path)\n",
    "\n",
    "print('Ok')"
   ],
   "metadata": {
    "collapsed": false,
    "pycharm": {
     "name": "#%%\n"
    }
   }
  },
  {
   "cell_type": "code",
   "execution_count": 24,
   "outputs": [
    {
     "name": "stdout",
     "output_type": "stream",
     "text": [
      "Ok\n"
     ]
    }
   ],
   "source": [
    "a = Matrix([[-1, 6, 8], [0, 3, 4], [6, 6, 6]])\n",
    "\n",
    "# copy\n",
    "a_copy = a.copy()\n",
    "a[0] = [5, 5, 5]\n",
    "sequences_should_be_equal([-1, 6, 8], a_copy[0])\n",
    "a_copy[0] = [4, 4, 4]\n",
    "sequences_should_be_equal([5, 5, 5], a[0])\n",
    "print('Ok')"
   ],
   "metadata": {
    "collapsed": false,
    "pycharm": {
     "name": "#%%\n"
    }
   }
  },
  {
   "cell_type": "markdown",
   "metadata": {
    "pycharm": {
     "name": "#%% md\n"
    }
   },
   "source": [
    "__Задание 7 (5 баллов):__ Ставится задача расчета стоимости чашки кофе. Опишите классы нескольких типов кофе (латте, капучино, американо), а также классы добавок к кофе (сахар, сливки, кардамон, пенка, сироп). Используйте шаблон \"декоратор\". Каждый класс должен характеризоваться методом вычисления стоимости чашки `calculate_cost`. Пользователь должен иметь возможность комбинировать любое число добавок с выбранным кофе и получить на выходе общую стоимость:\n",
    "\n",
    "```\n",
    "Cream(Sugar(Latte())).calculate_cost()\n",
    "```\n",
    "\n",
    "Первым элементом чашки всегда должен быть сам кофе, а не добавка, в противном случае при попытке создания чашки должно выбрасываться исключение:\n",
    "\n",
    "```\n",
    "Cream(Latte(Sugar())).calculate_cost() -> exception\n",
    "```\n",
    "\n",
    "Кофе может встречаться в чашке только один раз, в противном случае при попытке создания чашки должно выбрасываться исключение:\n",
    "\n",
    "```\n",
    "Cappuccino(Sugar(Latte())).calculate_cost() -> exception\n",
    "```\n",
    "\n",
    "Добавки могут включаться в чашку в любом количестве и порядке.\n",
    "Добавление новых типов кофе и добавок не должно требовать изменения существующего кода."
   ]
  },
  {
   "cell_type": "code",
   "execution_count": 25,
   "outputs": [],
   "source": [
    "from abc import ABC, abstractmethod\n",
    "\n",
    "class ICalculable(ABC):\n",
    "    @abstractmethod\n",
    "    def calculate_cost(self) -> float:\n",
    "        pass\n",
    "\n",
    "\n",
    "\n",
    "class Latte(ICalculable):\n",
    "    def calculate_cost(self) -> float:\n",
    "        return 13\n",
    "\n",
    "class Cappuccino(ICalculable):\n",
    "    def calculate_cost(self) -> float:\n",
    "        return 11\n",
    "\n",
    "class Americano(ICalculable):\n",
    "    def calculate_cost(self) -> float:\n",
    "        return 17\n",
    "\n",
    "\n",
    "\n",
    "class Sugar(ICalculable):\n",
    "    def __init__(self, calculable: ICalculable):\n",
    "        self._inner_calculable = calculable\n",
    "\n",
    "    def calculate_cost(self) -> float:\n",
    "        return self._inner_calculable.calculate_cost() + 3\n",
    "\n",
    "class Cream(ICalculable):\n",
    "    def __init__(self, calculable: ICalculable):\n",
    "        self._inner_calculable = calculable\n",
    "\n",
    "    def calculate_cost(self) -> float:\n",
    "        return self._inner_calculable.calculate_cost() + 5\n",
    "\n",
    "class Cardamon(ICalculable):\n",
    "    def __init__(self, calculable: ICalculable):\n",
    "        self._inner_calculable = calculable\n",
    "\n",
    "    def calculate_cost(self) -> float:\n",
    "        return self._inner_calculable.calculate_cost() + 12"
   ],
   "metadata": {
    "collapsed": false,
    "pycharm": {
     "name": "#%%\n"
    }
   }
  },
  {
   "cell_type": "code",
   "execution_count": 26,
   "outputs": [
    {
     "data": {
      "text/plain": "21"
     },
     "execution_count": 26,
     "metadata": {},
     "output_type": "execute_result"
    }
   ],
   "source": [
    "Cream(Sugar(Latte())).calculate_cost()"
   ],
   "metadata": {
    "collapsed": false,
    "pycharm": {
     "name": "#%%\n"
    }
   }
  },
  {
   "cell_type": "code",
   "execution_count": 27,
   "outputs": [
    {
     "data": {
      "text/plain": "46"
     },
     "execution_count": 27,
     "metadata": {},
     "output_type": "execute_result"
    }
   ],
   "source": [
    "Cardamon(Cream(Cardamon(Americano()))).calculate_cost()"
   ],
   "metadata": {
    "collapsed": false,
    "pycharm": {
     "name": "#%%\n"
    }
   }
  },
  {
   "cell_type": "code",
   "execution_count": 28,
   "outputs": [
    {
     "data": {
      "text/plain": "68"
     },
     "execution_count": 28,
     "metadata": {},
     "output_type": "execute_result"
    }
   ],
   "source": [
    "Sugar(Sugar(Sugar(Sugar(Sugar(Sugar(Sugar(Sugar(Sugar(Sugar(Sugar(Sugar(Sugar(Sugar(Sugar(Sugar(Sugar(Sugar(Sugar(Cappuccino()))))))))))))))))))).calculate_cost()"
   ],
   "metadata": {
    "collapsed": false,
    "pycharm": {
     "name": "#%%\n"
    }
   }
  },
  {
   "cell_type": "code",
   "execution_count": 29,
   "outputs": [
    {
     "ename": "TypeError",
     "evalue": "__init__() missing 1 required positional argument: 'calculable'",
     "output_type": "error",
     "traceback": [
      "\u001B[1;31m---------------------------------------------------------------------------\u001B[0m",
      "\u001B[1;31mTypeError\u001B[0m                                 Traceback (most recent call last)",
      "\u001B[1;32mC:\\Users\\SERGES~1\\AppData\\Local\\Temp/ipykernel_33648/1984416063.py\u001B[0m in \u001B[0;36m<module>\u001B[1;34m\u001B[0m\n\u001B[1;32m----> 1\u001B[1;33m \u001B[0mCream\u001B[0m\u001B[1;33m(\u001B[0m\u001B[0mLatte\u001B[0m\u001B[1;33m(\u001B[0m\u001B[0mSugar\u001B[0m\u001B[1;33m(\u001B[0m\u001B[1;33m)\u001B[0m\u001B[1;33m)\u001B[0m\u001B[1;33m)\u001B[0m\u001B[1;33m.\u001B[0m\u001B[0mcalculate_cost\u001B[0m\u001B[1;33m(\u001B[0m\u001B[1;33m)\u001B[0m\u001B[1;33m\u001B[0m\u001B[1;33m\u001B[0m\u001B[0m\n\u001B[0m",
      "\u001B[1;31mTypeError\u001B[0m: __init__() missing 1 required positional argument: 'calculable'"
     ]
    }
   ],
   "source": [
    "Cream(Latte(Sugar())).calculate_cost()"
   ],
   "metadata": {
    "collapsed": false,
    "pycharm": {
     "name": "#%%\n"
    }
   }
  },
  {
   "cell_type": "code",
   "execution_count": 30,
   "outputs": [
    {
     "ename": "TypeError",
     "evalue": "Cappuccino() takes no arguments",
     "output_type": "error",
     "traceback": [
      "\u001B[1;31m---------------------------------------------------------------------------\u001B[0m",
      "\u001B[1;31mTypeError\u001B[0m                                 Traceback (most recent call last)",
      "\u001B[1;32mC:\\Users\\SERGES~1\\AppData\\Local\\Temp/ipykernel_33648/908471704.py\u001B[0m in \u001B[0;36m<module>\u001B[1;34m\u001B[0m\n\u001B[1;32m----> 1\u001B[1;33m \u001B[0mCappuccino\u001B[0m\u001B[1;33m(\u001B[0m\u001B[0mSugar\u001B[0m\u001B[1;33m(\u001B[0m\u001B[0mLatte\u001B[0m\u001B[1;33m(\u001B[0m\u001B[1;33m)\u001B[0m\u001B[1;33m)\u001B[0m\u001B[1;33m)\u001B[0m\u001B[1;33m.\u001B[0m\u001B[0mcalculate_cost\u001B[0m\u001B[1;33m(\u001B[0m\u001B[1;33m)\u001B[0m\u001B[1;33m\u001B[0m\u001B[1;33m\u001B[0m\u001B[0m\n\u001B[0m",
      "\u001B[1;31mTypeError\u001B[0m: Cappuccino() takes no arguments"
     ]
    }
   ],
   "source": [
    "Cappuccino(Sugar(Latte())).calculate_cost()"
   ],
   "metadata": {
    "collapsed": false,
    "pycharm": {
     "name": "#%%\n"
    }
   }
  }
 ],
 "metadata": {
  "kernelspec": {
   "display_name": "Python 3",
   "language": "python",
   "name": "python3"
  },
  "language_info": {
   "codemirror_mode": {
    "name": "ipython",
    "version": 3
   },
   "file_extension": ".py",
   "mimetype": "text/x-python",
   "name": "python",
   "nbconvert_exporter": "python",
   "pygments_lexer": "ipython3",
   "version": "3.7.3"
  }
 },
 "nbformat": 4,
 "nbformat_minor": 2
}