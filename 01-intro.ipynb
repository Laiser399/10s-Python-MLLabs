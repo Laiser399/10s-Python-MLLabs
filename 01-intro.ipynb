{
 "cells": [
  {
   "cell_type": "markdown",
   "metadata": {},
   "source": [
    "## Домашнее задание №1 (курс \"Практикум по программированию на языке Python\")"
   ]
  },
  {
   "cell_type": "markdown",
   "metadata": {},
   "source": [
    "### Тема: Введение в язык Python.\n",
    "\n",
    "**Автор**: Мурат Апишев\n",
    "\n",
    "**Выдана**:   18 февраля 2022\n",
    "\n",
    "**Дедлайн**:  21:00 3 марта 2022\n",
    "\n",
    "**Среда выполнения**: Jupyter Notebook (Python 3.7+)\n",
    "\n",
    "#### Правила:\n",
    "\n",
    "Результат выполнения задания - Jupyter Notebook с кодом. __Максимальное число баллов за задание - 20__.\n",
    "\n",
    "Все ячейки должны быть \"выполненными\", при этом результат должен воспроизводиться при проверке (на Python 3.7). Если какой-то код не был запущен или отрабатывает с ошибками, то пункт не засчитывается. Задание, сданное после дедлайна, _не принимается_. Можно отправить недоделанное задание, выполненные пункты будут оценены.\n",
    "\n",
    "Готовое задание отправляется на почту mel-lain@yandex.ru.\n",
    "\n",
    "Задание выполняется самостоятельно. Если какие-то студенты будут уличены в списывании, все они автоматически получат за эту работу 0 баллов. Если вы нашли в Интернете какой-то специфичный код, который собираетесь заимствовать, обязательно укажите это в задании - наверняка вы не единственный, кто найдёт и использует эту информацию.\n",
    "\n",
    "__Удалять фрагменты формулировок заданий запрещается.__"
   ]
  },
  {
   "cell_type": "markdown",
   "metadata": {},
   "source": [
    "#### Постановка задачи:\n",
    "\n",
    "- В данной работе нужно решить набор задач, проверяющих владение базовыми инструментами языка.\n",
    "- Каждая задача представляет собой написание одной или более функций, а также набора тестов, проверяющих работу этой функции в общих и крайних случаях.\n",
    "- Отсутствие тестов автоматически уменьшает количество баллов за задание как минимум в два раза, некачественные тесты также будут штрафоваться.\n",
    "- Если в задании указано использовать несколько разных вариантов решения, подразумевается использование различных инструментов (циклы, списковые включения, генераторы, встроенные функции, функции модулей стандартной библотеки и т.п.), замена, например, цикла for на цикл while не является иным способом решения.\n",
    "- Даже если это не указано явно в требованиях, код должен быть по возможности неизбыточным, работать с разумной сложностью и объёмом потребялемой памяти, проверяющие могут снизить балл за задание, выполненное без учёта этого требования.\n",
    "- Результирующий код должен быть читаемым, с единой системой отступов и адеквантными названиями переменных, проверяющие могут снизить балл за задание, выполненное без учёта этого требования."
   ]
  },
  {
   "cell_type": "markdown",
   "metadata": {},
   "source": [
    "__Задание 1 (0.5 балла):__ Дано натуральное число. Требуется определить, является ли год с данным номером високосным. Если год является високосным, то выведите YES, иначе выведите NO. Напомним, что в соответствии с григорианским календарем, год является високосным, если его номер кратен 4, но не кратен 100, а также если он кратен 400."
   ]
  },
  {
   "cell_type": "code",
   "execution_count": 14,
   "metadata": {},
   "outputs": [
    {
     "name": "stdout",
     "output_type": "stream",
     "text": [
      "YES\n",
      "NO\n",
      "NO\n",
      "NO\n",
      "YES\n",
      "NO\n",
      "NO\n",
      "NO\n",
      "NO\n",
      "YES\n",
      "YES\n",
      "NO\n"
     ]
    }
   ],
   "source": [
    "def task_01_func(year):\n",
    "    if year % 400 == 0:\n",
    "        return True\n",
    "    if year % 100 == 0:\n",
    "        return False\n",
    "    return year % 4 == 0\n",
    "\n",
    "test_cases_01 = [\n",
    "    (0, True),\n",
    "    (1, False),\n",
    "    (2, False),\n",
    "    (3, False),\n",
    "    (4, True),\n",
    "    (100, False),\n",
    "    (101, False),\n",
    "    (102, False),\n",
    "    (103, False),\n",
    "    (104, True),\n",
    "    (400, True),\n",
    "    (2100, False),\n",
    "]\n",
    "\n",
    "def test_01():\n",
    "    for arg, expected in test_cases_01:\n",
    "        actual = task_01_func(arg)\n",
    "        print('YES' if actual else 'NO')\n",
    "        assert actual == expected\n",
    "\n",
    "test_01()"
   ]
  },
  {
   "cell_type": "markdown",
   "metadata": {},
   "source": [
    "__Задание 2 (0.5 балла):__ Дано натуральное число. Найдите число знаков в его десятичной записи. Предложите как минимум два различных решения."
   ]
  },
  {
   "cell_type": "code",
   "execution_count": 24,
   "metadata": {},
   "outputs": [],
   "source": [
    "def task_02_func_1(number):\n",
    "    return len(str(number))\n",
    "\n",
    "def task_02_func_2(number):\n",
    "    decimal_digits_count = 0\n",
    "    while number > 0:\n",
    "        number //= 10\n",
    "        decimal_digits_count += 1\n",
    "    return decimal_digits_count\n",
    "\n",
    "test_cases_02 = [\n",
    "    (100, 3),\n",
    "    (3948576340958674350968, 22),\n",
    "    (1, 1),\n",
    "    (9, 1),\n",
    "    (99, 2),\n",
    "]\n",
    "\n",
    "def test_02():\n",
    "    for arg, expected in test_cases_02:\n",
    "        actual1 = task_02_func_1(arg)\n",
    "        actual2 = task_02_func_2(arg)\n",
    "        assert actual1 == actual2 == expected\n",
    "\n",
    "test_02()"
   ]
  },
  {
   "cell_type": "markdown",
   "metadata": {},
   "source": [
    "__Задание 3 (0.5 балла):__ По данному натуральном n вычислите сумму 1!+2!+3!+...+n!. В решении этой задачи с помощью циклов можно использовать только один цикл. Предложите как минимум два различных решения."
   ]
  },
  {
   "cell_type": "code",
   "execution_count": 4,
   "metadata": {
    "collapsed": true
   },
   "outputs": [],
   "source": [
    "def task_03_func_1(n):\n",
    "    cumulative_sum = 0\n",
    "    multiplier = 1\n",
    "    for i in range(1, n + 1):\n",
    "        multiplier *= i\n",
    "        cumulative_sum += multiplier\n",
    "    return cumulative_sum\n",
    "\n",
    "def factorial(x):\n",
    "    if x <= 2:\n",
    "        return x\n",
    "    return x * factorial(x - 1)\n",
    "\n",
    "def task_03_func_2(n):\n",
    "    if n == 1:\n",
    "        return 1\n",
    "    return factorial(n) + task_03_func_2(n - 1)\n",
    "\n",
    "test_cases_03 = [\n",
    "    (1, 1),\n",
    "    (2, 3),\n",
    "    (3, 9),\n",
    "    (4, 33),\n",
    "    (10, 4037913),\n",
    "]\n",
    "\n",
    "def test_03():\n",
    "    for arg, expected in test_cases_03:\n",
    "        actual1 = task_03_func_1(arg)\n",
    "        actual2 = task_03_func_2(arg)\n",
    "        assert actual1 == actual2 == expected\n",
    "\n",
    "test_03()"
   ]
  },
  {
   "cell_type": "markdown",
   "metadata": {},
   "source": [
    "__Задание 4 (0.5 балла):__ Определить, является ли введённая строка палиндромом (то есть одинаково читается с обеих сторон). Предложите как минимум три различных решения."
   ]
  },
  {
   "cell_type": "code",
   "execution_count": 15,
   "metadata": {
    "collapsed": true
   },
   "outputs": [],
   "source": [
    "def task_04_func_1(s):\n",
    "    return s[::-1] == s\n",
    "\n",
    "def task_04_func_2(s):\n",
    "    for i in range(len(s) // 2):\n",
    "        if s[i] != s[-1 - i]:\n",
    "            return False\n",
    "    return True\n",
    "\n",
    "def task_04_func_3(s):\n",
    "    for a, b in zip(s, reversed(s)):\n",
    "        if a != b:\n",
    "            return False\n",
    "    return True\n",
    "\n",
    "test_cases_04 = [\n",
    "    (\"\", True),\n",
    "    (\"asDsa\", True),\n",
    "    (\"133323\", False),\n",
    "    (\"12\", False),\n",
    "    (\"11\", True),\n",
    "    (\"sS\", False),\n",
    "    (\"sSs\", True),\n",
    "    (\"asddsa\", True),\n",
    "]\n",
    "\n",
    "def test_04():\n",
    "    for arg, expected in test_cases_04:\n",
    "        actual1 = task_04_func_1(arg)\n",
    "        actual2 = task_04_func_2(arg)\n",
    "        actual3 = task_04_func_3(arg)\n",
    "        assert actual1 == actual2 == actual3 == expected\n",
    "\n",
    "test_04()"
   ]
  },
  {
   "cell_type": "markdown",
   "metadata": {},
   "source": [
    "__Задание 5 (1 балл):__ Дан текст в виде строки. Напишите функцию, которая возвращает словарь, где ключами являются уникальные слова из этого текста, а значениями - число раз, которое данное слово встретилось в тексте. Считать, что слова разделяются пробелами. Предложите как минимум два различных решения."
   ]
  },
  {
   "cell_type": "code",
   "execution_count": 3,
   "metadata": {
    "collapsed": true
   },
   "outputs": [],
   "source": [
    "from collections import Counter\n",
    "\n",
    "def task_05_func_1(text):\n",
    "    counts = dict()\n",
    "    for word in text.split():\n",
    "        if word not in counts:\n",
    "            counts[word] = 0\n",
    "        counts[word] += 1\n",
    "    return counts\n",
    "\n",
    "def task_05_func_2(text):\n",
    "    return dict(Counter(text.split()))\n",
    "\n",
    "test_cases_05 =[\n",
    "    (\n",
    "        'asd 123  bcvb 0 qwe 2 qwe asd so 7n 123',\n",
    "        {\n",
    "            'asd': 2,\n",
    "            '123': 2,\n",
    "            'bcvb': 1,\n",
    "            '0': 1,\n",
    "            'qwe': 2,\n",
    "            '2': 1,\n",
    "            'so': 1,\n",
    "            '7n': 1,\n",
    "        }\n",
    "    ),\n",
    "    (\n",
    "        '1 1 1 s 1',\n",
    "        {\n",
    "            '1': 4,\n",
    "            's': 1,\n",
    "        }\n",
    "    )\n",
    "]\n",
    "\n",
    "def test_05():\n",
    "    for arg, expected in test_cases_05:\n",
    "        actual1 = task_05_func_1(arg)\n",
    "        actual2 = task_05_func_2(arg)\n",
    "        assert actual1 == actual2 == expected\n",
    "\n",
    "test_05()"
   ]
  },
  {
   "cell_type": "markdown",
   "metadata": {},
   "source": [
    "__Задание 6 (1 балл):__ Напишите функцию, которая принимает на вход строку и символ и возвращает:\n",
    "\n",
    "- если символ встретился в строке один раз - кортеж (индекс вхождения, None);\n",
    "- если два и более раз - кортеж (индекс первого вхождения, индекс последнего вхождения);\n",
    "- если ни разу - кортеж (None, None).\n",
    "\n",
    "Запрещается делать более одного прохода по каждому элементу строки."
   ]
  },
  {
   "cell_type": "code",
   "execution_count": 6,
   "metadata": {
    "collapsed": true
   },
   "outputs": [],
   "source": [
    "def task_06_func(input_str, input_char):\n",
    "    first, last = None, None\n",
    "    for i, c in enumerate(input_str):\n",
    "        if c == input_char:\n",
    "            if first is None:\n",
    "                first = i\n",
    "            else:\n",
    "                last = i\n",
    "    return first, last\n",
    "\n",
    "test_cases_06 = [\n",
    "    (\n",
    "        ('qweq123q', 'q'),\n",
    "        (0, 7)\n",
    "    ),\n",
    "    (\n",
    "        ('', ''),\n",
    "        (None, None)\n",
    "    ),\n",
    "    (\n",
    "        ('', 'a'),\n",
    "        (None, None)\n",
    "    ),\n",
    "    (\n",
    "        ('123', 'a'),\n",
    "        (None, None)\n",
    "    ),\n",
    "    (\n",
    "        ('1qwe', 'e'),\n",
    "        (3, None)\n",
    "    ),\n",
    "    (\n",
    "        ('qqqqqq', 'q'),\n",
    "        (0, 5)\n",
    "    ),\n",
    "]\n",
    "\n",
    "def test_06():\n",
    "    for args, expected in test_cases_06:\n",
    "        actual = task_06_func(*args)\n",
    "        assert actual == expected\n",
    "\n",
    "test_06()"
   ]
  },
  {
   "cell_type": "markdown",
   "metadata": {},
   "source": [
    "__Задание 7 (1 балл):__ Дан список целых чисел. Напишите функцию, которая возвращает копию этого списка, из которой удалены отрицательные числа, а все прочие числа возведены в квадрат. Также возвращаемая последовательность должна быть отсортирована по убыванию. Предложите как минимум три различных решения."
   ]
  },
  {
   "cell_type": "code",
   "execution_count": 14,
   "metadata": {
    "collapsed": true
   },
   "outputs": [],
   "source": [
    "def task_07_func_1(lst: list):\n",
    "    res = []\n",
    "    for x in lst:\n",
    "        if x < 0:\n",
    "            continue\n",
    "        res.append(x ** 2)\n",
    "    res.sort(reverse=True)\n",
    "    return res\n",
    "\n",
    "def task_07_func_2(lst: list):\n",
    "    return sorted(\n",
    "        map(lambda x: x ** 2,\n",
    "            filter(\n",
    "                lambda x: x >= 0,\n",
    "                lst)\n",
    "            ),\n",
    "        reverse=True\n",
    "    )\n",
    "\n",
    "def task_07_func_3(lst: list):\n",
    "    copy = lst[:]\n",
    "    i = 0\n",
    "    while i < len(copy):\n",
    "        if copy[i] < 0:\n",
    "            del copy[i]\n",
    "        else:\n",
    "            copy[i] **= 2\n",
    "            i += 1\n",
    "    copy.sort(reverse=True)\n",
    "    return copy\n",
    "\n",
    "test_cases_07 = [\n",
    "    (\n",
    "        [],\n",
    "        []\n",
    "    ),\n",
    "    (\n",
    "        [1, -1, 2, 9, 0, -100, 0],\n",
    "        [81, 4, 1, 0, 0]\n",
    "    ),\n",
    "    (\n",
    "        [-1, -1, -2],\n",
    "        []\n",
    "    ),\n",
    "    (\n",
    "        [6, 3, 2],\n",
    "        [36, 9, 4]\n",
    "    ),\n",
    "    (\n",
    "        [3, 3, 3],\n",
    "        [9, 9, 9]\n",
    "    ),\n",
    "]\n",
    "\n",
    "def test_07():\n",
    "    for arg, expected in test_cases_07:\n",
    "        actual1 = task_07_func_1(arg)\n",
    "        actual2 = task_07_func_2(arg)\n",
    "        actual3 = task_07_func_3(arg)\n",
    "        assert actual1 == actual2 == actual3 == expected\n",
    "\n",
    "test_07()"
   ]
  },
  {
   "cell_type": "markdown",
   "metadata": {},
   "source": [
    "__Задание 8 (1 балл):__ Напишите функцию, которая принимает на вход список кортежей одинаковой длины и индекс `index` элемента в кортеже и возвращает генератор, итерирование по которому позволит получит все кортежи входного списка, отсортированные по убыванию элементов этих кортежей с индексом `index`."
   ]
  },
  {
   "cell_type": "code",
   "execution_count": 33,
   "metadata": {},
   "outputs": [],
   "source": [
    "def task_08_func_1(lst, index):\n",
    "    copy = lst[:]\n",
    "    while len(copy) > 0:\n",
    "        next_item_index = max(range(len(copy)), key=lambda x: copy[x][index])\n",
    "        yield copy[next_item_index]\n",
    "        del copy[next_item_index]\n",
    "\n",
    "def task_08_func_2(lst, index):\n",
    "    sorted_lts = sorted(lst, reverse=True, key=lambda x: x[index])\n",
    "    for x in sorted_lts:\n",
    "        yield x\n",
    "\n",
    "test_cases_08 = [\n",
    "    (\n",
    "        [(-1, 'halo'), (10, 'asd'), (2, 'hhh'), (0, '2s')],\n",
    "        0,\n",
    "        [(10, 'asd'), (2, 'hhh'), (0, '2s'), (-1, 'halo')]\n",
    "    ),\n",
    "    (\n",
    "        [(-1, 'halo'), (10, 'asd'), (2, 'hhh'), (0, '2s')],\n",
    "        1,\n",
    "        [(2, 'hhh'), (-1, 'halo'), (10, 'asd'), (0, '2s')]\n",
    "    ),\n",
    "]\n",
    "\n",
    "def test_08():\n",
    "    for lst, index, expected in test_cases_08:\n",
    "        actual1 = list(task_08_func_1(lst, index))\n",
    "        actual2 = list(task_08_func_2(lst, index))\n",
    "        assert actual1 == actual2 == expected\n",
    "\n",
    "test_08()"
   ]
  },
  {
   "cell_type": "markdown",
   "metadata": {},
   "source": [
    "__Задание 9 (1 балл):__ Напишите функцию, которая получает на вход натуральное число `n` и выводит первые `n` строк треугольника Паскаля."
   ]
  },
  {
   "cell_type": "code",
   "execution_count": 39,
   "metadata": {
    "collapsed": true
   },
   "outputs": [
    {
     "name": "stdout",
     "output_type": "stream",
     "text": [
      "n=0: [1]\n",
      "n=1: [1, 1]\n",
      "n=2: [1, 2, 1]\n",
      "n=3: [1, 3, 3, 1]\n",
      "n=4: [1, 4, 6, 4, 1]\n",
      "n=5: [1, 5, 10, 10, 5, 1]\n",
      "n=6: [1, 6, 15, 20, 15, 6, 1]\n",
      "n=7: [1, 7, 21, 35, 35, 21, 7, 1]\n",
      "n=8: [1, 8, 28, 56, 70, 56, 28, 8, 1]\n",
      "n=9: [1, 9, 36, 84, 126, 126, 84, 36, 9, 1]\n",
      "n=10: [1, 10, 45, 120, 210, 252, 210, 120, 45, 10, 1]\n",
      "n=11: [1, 11, 55, 165, 330, 462, 462, 330, 165, 55, 11, 1]\n",
      "n=12: [1, 12, 66, 220, 495, 792, 924, 792, 495, 220, 66, 12, 1]\n",
      "n=13: [1, 13, 78, 286, 715, 1287, 1716, 1716, 1287, 715, 286, 78, 13, 1]\n",
      "n=14: [1, 14, 91, 364, 1001, 2002, 3003, 3432, 3003, 2002, 1001, 364, 91, 14, 1]\n",
      "n=15: [1, 15, 105, 455, 1365, 3003, 5005, 6435, 6435, 5005, 3003, 1365, 455, 105, 15, 1]\n"
     ]
    }
   ],
   "source": [
    "def task_09_func(n):\n",
    "    if n == 0:\n",
    "        line = [1]\n",
    "    else:\n",
    "        prev_line = task_09_func(n - 1)\n",
    "        line = [1]\n",
    "        for i in range(len(prev_line) - 1):\n",
    "            line.append(prev_line[i] + prev_line[i + 1])\n",
    "        line.append(1)\n",
    "    print(f'{n=}: {line}')\n",
    "    return line\n",
    "\n",
    "task_09_func(15);"
   ]
  },
  {
   "cell_type": "markdown",
   "metadata": {},
   "source": [
    "__Задание 10 (1 балл):__ Напишите функцию, которая принимает на вход абсолютный путь к директории и две строки с расширениями файлов. В результате её выполнения у всех файлов в указанной директории, имеющих первое расширение, расширение должно измениться на второе. В конце работы функция должна возвращать кортеж из двух элементов:\n",
    "\n",
    "1. сколько всего в директории файлов (именно файлов, не директорий);\n",
    "2. у скольки из них расширение было изменено.\n",
    "\n",
    "Допускается только один проход по каждому файлу из указанной директории."
   ]
  },
  {
   "cell_type": "code",
   "execution_count": 68,
   "metadata": {
    "collapsed": true
   },
   "outputs": [
    {
     "data": {
      "text/plain": "(3, 2)"
     },
     "execution_count": 68,
     "metadata": {},
     "output_type": "execute_result"
    }
   ],
   "source": [
    "from pathlib import Path\n",
    "\n",
    "def task_10_func(dir_path, prev_extension, next_extension):\n",
    "    path = Path(dir_path)\n",
    "    total_files_count, changed_extensions_files_count = 0, 0\n",
    "    for item in path.iterdir():\n",
    "        if not item.is_file():\n",
    "            continue\n",
    "        total_files_count += 1\n",
    "        if item.suffix == prev_extension:\n",
    "            changed_extensions_files_count += 1\n",
    "            item.rename(item.with_suffix(next_extension))\n",
    "    return total_files_count, changed_extensions_files_count\n",
    "# D:.\n",
    "#     a.txt\n",
    "#     b\n",
    "#     c.txt\n",
    "\n",
    "task_10_func('./test_dir_10', '.txt', '.new')\n",
    "# task_10_func('./test_dir_10', '.new', '.txt')\n",
    "\n",
    "# D:.\n",
    "#     a.new\n",
    "#     b\n",
    "#     c.new"
   ]
  },
  {
   "cell_type": "markdown",
   "metadata": {},
   "source": [
    "__Задание 11 (1 балл):__ Описать функцию, которая принимает на вход два списка и возвращает список уникальных элементов, которые есть в первом входном списке и отсутствуют во втором. Запрещается использовать циклы и списковые включения/генераторы списков."
   ]
  },
  {
   "cell_type": "code",
   "execution_count": 79,
   "metadata": {
    "collapsed": true
   },
   "outputs": [],
   "source": [
    "def task_11_func(first_list, second_list):\n",
    "    return list(set(first_list) - set(second_list))\n",
    "\n",
    "test_cases_11 = [\n",
    "    ([], [1, 2, 3], set()),\n",
    "    ([1, 1, 1, 2], [], {1, 2}),\n",
    "    ([1, 1, 1, 2], [1], {2}),\n",
    "    ([1, 1], [1], set()),\n",
    "    ([1, 2, 3], [1, 4, 5, 6], {2, 3}),\n",
    "]\n",
    "\n",
    "def test_11():\n",
    "    for first, second, expected_set in test_cases_11:\n",
    "        actual = task_11_func(first, second)\n",
    "        actual_set = set(actual)\n",
    "        assert type(actual) == list\n",
    "        assert len(actual) == len(actual_set)\n",
    "        assert actual_set == expected_set\n",
    "\n",
    "test_11()"
   ]
  },
  {
   "cell_type": "markdown",
   "metadata": {},
   "source": [
    "__Задание 12 (1 балл):__ Напишите функцию, которая получает на вход путь к файлу, в котором в каждой строке записано одно вещественное число, а также путь к выходному файлу. Функция должна прочитать содержимое файла, игнорировать строки с нечётными индексами, а строки с чётными индексами должна увеличить на минимальное из чисел, содержащихся в этом файле. Полученные числа нужно записать в выходной файл с точностью 5 знаков после запятой.\n",
    "\n",
    "Требуется сделать не более двух проходов по входному файлу, расход памяти на протяжении работы должен быть O(1) (то есть никак не зависеть от числа строк во входном файле)."
   ]
  },
  {
   "cell_type": "code",
   "execution_count": 86,
   "metadata": {
    "collapsed": true
   },
   "outputs": [],
   "source": [
    "def task_12_func(input_path, output_path):\n",
    "    min_value = None\n",
    "    with open(input_path, 'r') as file:\n",
    "        while line := file.readline():\n",
    "            value = float(line)\n",
    "            min_value = min(min_value, value) if min_value is not None else value\n",
    "    with open(input_path, 'r') as in_file:\n",
    "        with open(output_path, 'w') as out_file:\n",
    "            line_index = -1\n",
    "            while line := in_file.readline():\n",
    "                line_index += 1\n",
    "                if line_index % 2 == 1:\n",
    "                    continue\n",
    "                out_file.write(f'{float(line) + min_value:5f}\\n')\n",
    "\n",
    "task_12_func('./test_dir_12/input.txt', './test_dir_12/output.txt')"
   ]
  },
  {
   "cell_type": "markdown",
   "metadata": {},
   "source": [
    "__Задание 13 (1 балл):__ Написать функцию, которая принимает на вход число `n`, которое может быть либо натуральным, либо -1, и возвращает генератор чисел Фиббоначи. Если входной параметр равен натуральному числу, то генератор должен выдавать последовательно числа Фиббоначи до `n`-го. Если `n` равно -1, то генератор должен быть бесконечным."
   ]
  },
  {
   "cell_type": "code",
   "execution_count": 101,
   "metadata": {},
   "outputs": [],
   "source": [
    "import itertools\n",
    "\n",
    "def task_13_func(n):\n",
    "    a, b = 0, 1\n",
    "\n",
    "    yield a\n",
    "    if n == 0:\n",
    "        return\n",
    "\n",
    "    yield b\n",
    "    if n == 1:\n",
    "        return\n",
    "\n",
    "    if n == -1:\n",
    "        while True:\n",
    "            a, b = b, a + b\n",
    "            yield b\n",
    "    else:\n",
    "        for _ in range(2, n + 1):\n",
    "            a, b = b, a + b\n",
    "            yield b\n",
    "\n",
    "test_cases_13 = [\n",
    "    (0, [0]),\n",
    "    (1, [0, 1]),\n",
    "    (2, [0, 1, 1]),\n",
    "    (10, [0, 1, 1, 2, 3, 5, 8, 13, 21, 34, 55]),\n",
    "    (20, [0, 1, 1, 2, 3, 5, 8, 13, 21, 34, 55, 89, 144, 233, 377, 610, 987, 1597, 2584, 4181, 6765]),\n",
    "]\n",
    "\n",
    "expected_first_30_elements = [0, 1, 1, 2, 3, 5, 8, 13, 21, 34, 55, 89, 144, 233, 377, 610, 987, 1597, 2584, 4181, 6765, 10946, 17711, 28657, 46368, 75025, 121393, 196418, 317811, 514229]\n",
    "\n",
    "def test_13():\n",
    "    for n, expected in test_cases_13:\n",
    "        actual = list(task_13_func(n))\n",
    "        assert actual == expected\n",
    "    actual_first_30_elements = list(itertools.islice(task_13_func(-1), 30))\n",
    "    assert actual_first_30_elements == expected_first_30_elements\n",
    "\n",
    "test_13()"
   ]
  },
  {
   "cell_type": "markdown",
   "metadata": {},
   "source": [
    "__Задание 14 (1 балл):__ Написать функцию, которая принимает на вход произвольный объект, проверяет его тип, и для целого числа возвращает список всех магических методов объекта, начинающихся с `__a`, для строк - с `__s`. Для всех прочих типов должен возвращаться список немагических методов. В задании запрещается использовать циклы и списковые включения/генераторы списков."
   ]
  },
  {
   "cell_type": "code",
   "execution_count": 110,
   "metadata": {
    "collapsed": true
   },
   "outputs": [
    {
     "name": "stdout",
     "output_type": "stream",
     "text": [
      "['__abs__', '__add__', '__and__']\n",
      "['__setattr__', '__sizeof__', '__str__', '__subclasshook__']\n",
      "['as_integer_ratio', 'conjugate', 'fromhex', 'hex', 'imag', 'is_integer', 'real']\n"
     ]
    }
   ],
   "source": [
    "def task_14_func(obj):\n",
    "    if type(obj) == int:\n",
    "        return list(filter(lambda x: x.startswith('__a'), dir(obj)))\n",
    "    if type(obj) == str:\n",
    "        return list(filter(lambda x: x.startswith('__s'), dir(obj)))\n",
    "    return list(filter(lambda x: not x.startswith('__'), dir(obj)))\n",
    "\n",
    "print(task_14_func(0))\n",
    "print(task_14_func(''))\n",
    "print(task_14_func(0.0))"
   ]
  },
  {
   "cell_type": "markdown",
   "metadata": {},
   "source": [
    "__Задание 15 (1.5 балла):__ Написать функцию, которая во входной строке заменяет вхождения всех английских заглавных букв на их номер в таблице ASCII, затем производит сплит по минимальной из цифр строки. Предложите как минимум два различных решения, одно из которых не должно использовать циклы. При использовании циклов допускается не более двух проходов по строке."
   ]
  },
  {
   "cell_type": "code",
   "execution_count": null,
   "metadata": {},
   "outputs": [],
   "source": [
    "def task_15_func(n):\n",
    "    ..."
   ]
  },
  {
   "cell_type": "markdown",
   "metadata": {},
   "source": [
    "__Задание 16 (1.5 балла):__ Написать функцию, которая принимает на вход строку и извлекает из неё мобильные телефонные номера с помощью регулярных выражений. Функция должна поддерживать общепринятые варианты написания номера, как со всевозможными разделителями, так и без них (обеспечьте поддержку не менее 10 различных случаев). Возвращаемым значением функции является список всех найденных в строке номеров, если их не было, нужно вернуть пустой список."
   ]
  },
  {
   "cell_type": "code",
   "execution_count": null,
   "metadata": {},
   "outputs": [],
   "source": [
    "def task_16_func(n):\n",
    "    ..."
   ]
  },
  {
   "cell_type": "markdown",
   "metadata": {},
   "source": [
    "__Задание 17 (5 баллов):__ Опишем бинарное дерево, представленное в виде вложенных кортежей, в каждом узле дерева хранится вещественное число и ссылка на левое и правое поддерево.\n",
    "\n",
    "Пример: для сбалансированного дерева\n",
    "\n",
    "```\n",
    "        v_0\n",
    "       /   \\\n",
    "   v_11     v_12\n",
    "  /  \\       /  \\\n",
    "v_21 v_22  v_23 v_24\n",
    "```\n",
    "\n",
    "представление в виде кортежей будет выглядеть так:\n",
    "\n",
    "```\n",
    "(v_0,\n",
    "    (v_11,\n",
    "        (v_21, None, None),\n",
    "        (v_22, None, None)\n",
    "    ),\n",
    "    (v_12,\n",
    "        (v_23, None, None),\n",
    "        (v_24, None, None)\n",
    "    )\n",
    ")\n",
    "```\n",
    "\n",
    "Необходимо написать функцию, которая принимает на вход бинарное дерево (не обязательно сбалансированное), закодированное описанным способом в виде кортежа, производит его обход в глубину и для каждой листовой вершины вычисляет сумму всех значений от корня до неё включительно. Функция ничего не возвращает, вместо этого она выводит получаемые суммы в порядке следования листовых вершин (слева направо).\n",
    "\n",
    "Реализуйте два решения: на основе рекурсии и на основе циклов."
   ]
  },
  {
   "cell_type": "code",
   "execution_count": null,
   "metadata": {},
   "outputs": [],
   "source": [
    "def task_17_func(n):\n",
    "    ..."
   ]
  }
 ],
 "metadata": {
  "kernelspec": {
   "display_name": "Python 3",
   "language": "python",
   "name": "python3"
  },
  "language_info": {
   "codemirror_mode": {
    "name": "ipython",
    "version": 3
   },
   "file_extension": ".py",
   "mimetype": "text/x-python",
   "name": "python",
   "nbconvert_exporter": "python",
   "pygments_lexer": "ipython3",
   "version": "3.7.3"
  }
 },
 "nbformat": 4,
 "nbformat_minor": 2
}